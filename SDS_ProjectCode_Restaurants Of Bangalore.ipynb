{
 "cells": [
  {
   "cell_type": "code",
   "execution_count": 1,
   "metadata": {
    "_cell_guid": "b1076dfc-b9ad-4769-8c92-a6c4dae69d19",
    "_uuid": "8f2839f25d086af736a60e9eeb907d3b93b6e0e5",
    "execution": {
     "iopub.execute_input": "2020-11-19T18:53:22.582868Z",
     "iopub.status.busy": "2020-11-19T18:53:22.581963Z",
     "iopub.status.idle": "2020-11-19T18:53:22.588816Z",
     "shell.execute_reply": "2020-11-19T18:53:22.589608Z"
    },
    "papermill": {
     "duration": 0.073818,
     "end_time": "2020-11-19T18:53:22.589799",
     "exception": false,
     "start_time": "2020-11-19T18:53:22.515981",
     "status": "completed"
    },
    "tags": []
   },
   "outputs": [
    {
     "name": "stdout",
     "output_type": "stream",
     "text": [
      "/kaggle/input/zomato-bangalore-restaurants/zomato.csv\n"
     ]
    }
   ],
   "source": [
    "# This Python 3 environment comes with many helpful analytics libraries installed\n",
    "# It is defined by the kaggle/python Docker image: https://github.com/kaggle/docker-python\n",
    "# For example, here's several helpful packages to load\n",
    "\n",
    "import numpy as np # linear algebra\n",
    "import pandas as pd # data processing, CSV file I/O (e.g. pd.read_csv)\n",
    "\n",
    "# Input data files are available in the read-only \"../input/\" directory\n",
    "# For example, running this (by clicking run or pressing Shift+Enter) will list all files under the input directory\n",
    "\n",
    "import os\n",
    "for dirname, _, filenames in os.walk('/kaggle/input'):\n",
    "    for filename in filenames:\n",
    "        print(os.path.join(dirname, filename))\n",
    "\n",
    "# You can write up to 5GB to the current directory (/kaggle/working/) that gets preserved as output when you create a version using \"Save & Run All\" \n",
    "# You can also write temporary files to /kaggle/temp/, but they won't be saved outside of the current session"
   ]
  },
  {
   "cell_type": "markdown",
   "metadata": {
    "papermill": {
     "duration": 0.057691,
     "end_time": "2020-11-19T18:53:22.706942",
     "exception": false,
     "start_time": "2020-11-19T18:53:22.649251",
     "status": "completed"
    },
    "tags": []
   },
   "source": [
    "# 1. ABOUT THE DATASET"
   ]
  },
  {
   "cell_type": "code",
   "execution_count": 2,
   "metadata": {
    "_cell_guid": "79c7e3d0-c299-4dcb-8224-4455121ee9b0",
    "_uuid": "d629ff2d2480ee46fbb7e2d37f6b5fab8052498a",
    "execution": {
     "iopub.execute_input": "2020-11-19T18:53:22.830725Z",
     "iopub.status.busy": "2020-11-19T18:53:22.829948Z",
     "iopub.status.idle": "2020-11-19T18:53:30.284461Z",
     "shell.execute_reply": "2020-11-19T18:53:30.283685Z"
    },
    "papermill": {
     "duration": 7.519283,
     "end_time": "2020-11-19T18:53:30.284596",
     "exception": false,
     "start_time": "2020-11-19T18:53:22.765313",
     "status": "completed"
    },
    "tags": []
   },
   "outputs": [],
   "source": [
    "df=pd.read_csv(\"../input/zomato-bangalore-restaurants/zomato.csv\")"
   ]
  },
  {
   "cell_type": "code",
   "execution_count": 3,
   "metadata": {
    "execution": {
     "iopub.execute_input": "2020-11-19T18:53:30.412018Z",
     "iopub.status.busy": "2020-11-19T18:53:30.411298Z",
     "iopub.status.idle": "2020-11-19T18:53:30.416011Z",
     "shell.execute_reply": "2020-11-19T18:53:30.416778Z"
    },
    "papermill": {
     "duration": 0.070205,
     "end_time": "2020-11-19T18:53:30.416959",
     "exception": false,
     "start_time": "2020-11-19T18:53:30.346754",
     "status": "completed"
    },
    "tags": []
   },
   "outputs": [
    {
     "name": "stdout",
     "output_type": "stream",
     "text": [
      "No.of Rows and Columns\n"
     ]
    },
    {
     "data": {
      "text/plain": [
       "(51717, 17)"
      ]
     },
     "execution_count": 3,
     "metadata": {},
     "output_type": "execute_result"
    }
   ],
   "source": [
    "print(\"No.of Rows and Columns\")\n",
    "df.shape"
   ]
  },
  {
   "cell_type": "code",
   "execution_count": 4,
   "metadata": {
    "execution": {
     "iopub.execute_input": "2020-11-19T18:53:30.557465Z",
     "iopub.status.busy": "2020-11-19T18:53:30.554830Z",
     "iopub.status.idle": "2020-11-19T18:53:30.572984Z",
     "shell.execute_reply": "2020-11-19T18:53:30.572362Z"
    },
    "papermill": {
     "duration": 0.096871,
     "end_time": "2020-11-19T18:53:30.573121",
     "exception": false,
     "start_time": "2020-11-19T18:53:30.476250",
     "status": "completed"
    },
    "tags": []
   },
   "outputs": [
    {
     "data": {
      "text/html": [
       "<div>\n",
       "<style scoped>\n",
       "    .dataframe tbody tr th:only-of-type {\n",
       "        vertical-align: middle;\n",
       "    }\n",
       "\n",
       "    .dataframe tbody tr th {\n",
       "        vertical-align: top;\n",
       "    }\n",
       "\n",
       "    .dataframe thead th {\n",
       "        text-align: right;\n",
       "    }\n",
       "</style>\n",
       "<table border=\"1\" class=\"dataframe\">\n",
       "  <thead>\n",
       "    <tr style=\"text-align: right;\">\n",
       "      <th></th>\n",
       "      <th>url</th>\n",
       "      <th>address</th>\n",
       "      <th>name</th>\n",
       "      <th>online_order</th>\n",
       "      <th>book_table</th>\n",
       "      <th>rate</th>\n",
       "      <th>votes</th>\n",
       "      <th>phone</th>\n",
       "      <th>location</th>\n",
       "      <th>rest_type</th>\n",
       "      <th>dish_liked</th>\n",
       "      <th>cuisines</th>\n",
       "      <th>approx_cost(for two people)</th>\n",
       "      <th>reviews_list</th>\n",
       "      <th>menu_item</th>\n",
       "      <th>listed_in(type)</th>\n",
       "      <th>listed_in(city)</th>\n",
       "    </tr>\n",
       "  </thead>\n",
       "  <tbody>\n",
       "    <tr>\n",
       "      <th>0</th>\n",
       "      <td>https://www.zomato.com/bangalore/jalsa-banasha...</td>\n",
       "      <td>942, 21st Main Road, 2nd Stage, Banashankari, ...</td>\n",
       "      <td>Jalsa</td>\n",
       "      <td>Yes</td>\n",
       "      <td>Yes</td>\n",
       "      <td>4.1/5</td>\n",
       "      <td>775</td>\n",
       "      <td>080 42297555\\r\\n+91 9743772233</td>\n",
       "      <td>Banashankari</td>\n",
       "      <td>Casual Dining</td>\n",
       "      <td>Pasta, Lunch Buffet, Masala Papad, Paneer Laja...</td>\n",
       "      <td>North Indian, Mughlai, Chinese</td>\n",
       "      <td>800</td>\n",
       "      <td>[('Rated 4.0', 'RATED\\n  A beautiful place to ...</td>\n",
       "      <td>[]</td>\n",
       "      <td>Buffet</td>\n",
       "      <td>Banashankari</td>\n",
       "    </tr>\n",
       "    <tr>\n",
       "      <th>1</th>\n",
       "      <td>https://www.zomato.com/bangalore/spice-elephan...</td>\n",
       "      <td>2nd Floor, 80 Feet Road, Near Big Bazaar, 6th ...</td>\n",
       "      <td>Spice Elephant</td>\n",
       "      <td>Yes</td>\n",
       "      <td>No</td>\n",
       "      <td>4.1/5</td>\n",
       "      <td>787</td>\n",
       "      <td>080 41714161</td>\n",
       "      <td>Banashankari</td>\n",
       "      <td>Casual Dining</td>\n",
       "      <td>Momos, Lunch Buffet, Chocolate Nirvana, Thai G...</td>\n",
       "      <td>Chinese, North Indian, Thai</td>\n",
       "      <td>800</td>\n",
       "      <td>[('Rated 4.0', 'RATED\\n  Had been here for din...</td>\n",
       "      <td>[]</td>\n",
       "      <td>Buffet</td>\n",
       "      <td>Banashankari</td>\n",
       "    </tr>\n",
       "    <tr>\n",
       "      <th>2</th>\n",
       "      <td>https://www.zomato.com/SanchurroBangalore?cont...</td>\n",
       "      <td>1112, Next to KIMS Medical College, 17th Cross...</td>\n",
       "      <td>San Churro Cafe</td>\n",
       "      <td>Yes</td>\n",
       "      <td>No</td>\n",
       "      <td>3.8/5</td>\n",
       "      <td>918</td>\n",
       "      <td>+91 9663487993</td>\n",
       "      <td>Banashankari</td>\n",
       "      <td>Cafe, Casual Dining</td>\n",
       "      <td>Churros, Cannelloni, Minestrone Soup, Hot Choc...</td>\n",
       "      <td>Cafe, Mexican, Italian</td>\n",
       "      <td>800</td>\n",
       "      <td>[('Rated 3.0', \"RATED\\n  Ambience is not that ...</td>\n",
       "      <td>[]</td>\n",
       "      <td>Buffet</td>\n",
       "      <td>Banashankari</td>\n",
       "    </tr>\n",
       "    <tr>\n",
       "      <th>3</th>\n",
       "      <td>https://www.zomato.com/bangalore/addhuri-udupi...</td>\n",
       "      <td>1st Floor, Annakuteera, 3rd Stage, Banashankar...</td>\n",
       "      <td>Addhuri Udupi Bhojana</td>\n",
       "      <td>No</td>\n",
       "      <td>No</td>\n",
       "      <td>3.7/5</td>\n",
       "      <td>88</td>\n",
       "      <td>+91 9620009302</td>\n",
       "      <td>Banashankari</td>\n",
       "      <td>Quick Bites</td>\n",
       "      <td>Masala Dosa</td>\n",
       "      <td>South Indian, North Indian</td>\n",
       "      <td>300</td>\n",
       "      <td>[('Rated 4.0', \"RATED\\n  Great food and proper...</td>\n",
       "      <td>[]</td>\n",
       "      <td>Buffet</td>\n",
       "      <td>Banashankari</td>\n",
       "    </tr>\n",
       "    <tr>\n",
       "      <th>4</th>\n",
       "      <td>https://www.zomato.com/bangalore/grand-village...</td>\n",
       "      <td>10, 3rd Floor, Lakshmi Associates, Gandhi Baza...</td>\n",
       "      <td>Grand Village</td>\n",
       "      <td>No</td>\n",
       "      <td>No</td>\n",
       "      <td>3.8/5</td>\n",
       "      <td>166</td>\n",
       "      <td>+91 8026612447\\r\\n+91 9901210005</td>\n",
       "      <td>Basavanagudi</td>\n",
       "      <td>Casual Dining</td>\n",
       "      <td>Panipuri, Gol Gappe</td>\n",
       "      <td>North Indian, Rajasthani</td>\n",
       "      <td>600</td>\n",
       "      <td>[('Rated 4.0', 'RATED\\n  Very good restaurant ...</td>\n",
       "      <td>[]</td>\n",
       "      <td>Buffet</td>\n",
       "      <td>Banashankari</td>\n",
       "    </tr>\n",
       "  </tbody>\n",
       "</table>\n",
       "</div>"
      ],
      "text/plain": [
       "                                                 url  \\\n",
       "0  https://www.zomato.com/bangalore/jalsa-banasha...   \n",
       "1  https://www.zomato.com/bangalore/spice-elephan...   \n",
       "2  https://www.zomato.com/SanchurroBangalore?cont...   \n",
       "3  https://www.zomato.com/bangalore/addhuri-udupi...   \n",
       "4  https://www.zomato.com/bangalore/grand-village...   \n",
       "\n",
       "                                             address                   name  \\\n",
       "0  942, 21st Main Road, 2nd Stage, Banashankari, ...                  Jalsa   \n",
       "1  2nd Floor, 80 Feet Road, Near Big Bazaar, 6th ...         Spice Elephant   \n",
       "2  1112, Next to KIMS Medical College, 17th Cross...        San Churro Cafe   \n",
       "3  1st Floor, Annakuteera, 3rd Stage, Banashankar...  Addhuri Udupi Bhojana   \n",
       "4  10, 3rd Floor, Lakshmi Associates, Gandhi Baza...          Grand Village   \n",
       "\n",
       "  online_order book_table   rate  votes                             phone  \\\n",
       "0          Yes        Yes  4.1/5    775    080 42297555\\r\\n+91 9743772233   \n",
       "1          Yes         No  4.1/5    787                      080 41714161   \n",
       "2          Yes         No  3.8/5    918                    +91 9663487993   \n",
       "3           No         No  3.7/5     88                    +91 9620009302   \n",
       "4           No         No  3.8/5    166  +91 8026612447\\r\\n+91 9901210005   \n",
       "\n",
       "       location            rest_type  \\\n",
       "0  Banashankari        Casual Dining   \n",
       "1  Banashankari        Casual Dining   \n",
       "2  Banashankari  Cafe, Casual Dining   \n",
       "3  Banashankari          Quick Bites   \n",
       "4  Basavanagudi        Casual Dining   \n",
       "\n",
       "                                          dish_liked  \\\n",
       "0  Pasta, Lunch Buffet, Masala Papad, Paneer Laja...   \n",
       "1  Momos, Lunch Buffet, Chocolate Nirvana, Thai G...   \n",
       "2  Churros, Cannelloni, Minestrone Soup, Hot Choc...   \n",
       "3                                        Masala Dosa   \n",
       "4                                Panipuri, Gol Gappe   \n",
       "\n",
       "                         cuisines approx_cost(for two people)  \\\n",
       "0  North Indian, Mughlai, Chinese                         800   \n",
       "1     Chinese, North Indian, Thai                         800   \n",
       "2          Cafe, Mexican, Italian                         800   \n",
       "3      South Indian, North Indian                         300   \n",
       "4        North Indian, Rajasthani                         600   \n",
       "\n",
       "                                        reviews_list menu_item  \\\n",
       "0  [('Rated 4.0', 'RATED\\n  A beautiful place to ...        []   \n",
       "1  [('Rated 4.0', 'RATED\\n  Had been here for din...        []   \n",
       "2  [('Rated 3.0', \"RATED\\n  Ambience is not that ...        []   \n",
       "3  [('Rated 4.0', \"RATED\\n  Great food and proper...        []   \n",
       "4  [('Rated 4.0', 'RATED\\n  Very good restaurant ...        []   \n",
       "\n",
       "  listed_in(type) listed_in(city)  \n",
       "0          Buffet    Banashankari  \n",
       "1          Buffet    Banashankari  \n",
       "2          Buffet    Banashankari  \n",
       "3          Buffet    Banashankari  \n",
       "4          Buffet    Banashankari  "
      ]
     },
     "execution_count": 4,
     "metadata": {},
     "output_type": "execute_result"
    }
   ],
   "source": [
    "df.head()"
   ]
  },
  {
   "cell_type": "code",
   "execution_count": 5,
   "metadata": {
    "execution": {
     "iopub.execute_input": "2020-11-19T18:53:30.790698Z",
     "iopub.status.busy": "2020-11-19T18:53:30.789614Z",
     "iopub.status.idle": "2020-11-19T18:53:30.805261Z",
     "shell.execute_reply": "2020-11-19T18:53:30.804536Z"
    },
    "papermill": {
     "duration": 0.172155,
     "end_time": "2020-11-19T18:53:30.805379",
     "exception": false,
     "start_time": "2020-11-19T18:53:30.633224",
     "status": "completed"
    },
    "tags": []
   },
   "outputs": [
    {
     "name": "stdout",
     "output_type": "stream",
     "text": [
      "<class 'pandas.core.frame.DataFrame'>\n",
      "RangeIndex: 51717 entries, 0 to 51716\n",
      "Data columns (total 17 columns):\n",
      " #   Column                       Non-Null Count  Dtype \n",
      "---  ------                       --------------  ----- \n",
      " 0   url                          51717 non-null  object\n",
      " 1   address                      51717 non-null  object\n",
      " 2   name                         51717 non-null  object\n",
      " 3   online_order                 51717 non-null  object\n",
      " 4   book_table                   51717 non-null  object\n",
      " 5   rate                         43942 non-null  object\n",
      " 6   votes                        51717 non-null  int64 \n",
      " 7   phone                        50509 non-null  object\n",
      " 8   location                     51696 non-null  object\n",
      " 9   rest_type                    51490 non-null  object\n",
      " 10  dish_liked                   23639 non-null  object\n",
      " 11  cuisines                     51672 non-null  object\n",
      " 12  approx_cost(for two people)  51371 non-null  object\n",
      " 13  reviews_list                 51717 non-null  object\n",
      " 14  menu_item                    51717 non-null  object\n",
      " 15  listed_in(type)              51717 non-null  object\n",
      " 16  listed_in(city)              51717 non-null  object\n",
      "dtypes: int64(1), object(16)\n",
      "memory usage: 6.7+ MB\n"
     ]
    }
   ],
   "source": [
    "df.info()"
   ]
  },
  {
   "cell_type": "code",
   "execution_count": 6,
   "metadata": {
    "execution": {
     "iopub.execute_input": "2020-11-19T18:53:31.024295Z",
     "iopub.status.busy": "2020-11-19T18:53:31.023470Z",
     "iopub.status.idle": "2020-11-19T18:53:31.144874Z",
     "shell.execute_reply": "2020-11-19T18:53:31.144127Z"
    },
    "papermill": {
     "duration": 0.278049,
     "end_time": "2020-11-19T18:53:31.144991",
     "exception": false,
     "start_time": "2020-11-19T18:53:30.866942",
     "status": "completed"
    },
    "tags": []
   },
   "outputs": [
    {
     "name": "stdout",
     "output_type": "stream",
     "text": [
      "Percentage NULL or NA values\n"
     ]
    },
    {
     "data": {
      "text/plain": [
       "url                             0.00\n",
       "address                         0.00\n",
       "name                            0.00\n",
       "online_order                    0.00\n",
       "book_table                      0.00\n",
       "rate                           15.03\n",
       "votes                           0.00\n",
       "phone                           2.34\n",
       "location                        0.04\n",
       "rest_type                       0.44\n",
       "dish_liked                     54.29\n",
       "cuisines                        0.09\n",
       "approx_cost(for two people)     0.67\n",
       "reviews_list                    0.00\n",
       "menu_item                       0.00\n",
       "listed_in(type)                 0.00\n",
       "listed_in(city)                 0.00\n",
       "dtype: float64"
      ]
     },
     "execution_count": 6,
     "metadata": {},
     "output_type": "execute_result"
    }
   ],
   "source": [
    "print(\"Percentage NULL or NA values\")\n",
    "((df.isnull() | df.isna()).sum() * 100 / df.index.size).round(2)"
   ]
  },
  {
   "cell_type": "markdown",
   "metadata": {
    "papermill": {
     "duration": 0.061456,
     "end_time": "2020-11-19T18:53:31.269269",
     "exception": false,
     "start_time": "2020-11-19T18:53:31.207813",
     "status": "completed"
    },
    "tags": []
   },
   "source": [
    "# 2. EXPLORATORY DATA ANALYSIS"
   ]
  },
  {
   "cell_type": "markdown",
   "metadata": {
    "papermill": {
     "duration": 0.06138,
     "end_time": "2020-11-19T18:53:31.392591",
     "exception": false,
     "start_time": "2020-11-19T18:53:31.331211",
     "status": "completed"
    },
    "tags": []
   },
   "source": [
    "**Columns Description**\n",
    "1. **url** contains the url of the restaurant in the zomato website\n",
    "\n",
    "2. **address** contains the address of the restaurant in Bengaluru\n",
    "\n",
    "3. **name** contains the name of the restaurant\n",
    "\n",
    "4. **online_order** whether online ordering is available in the restaurant or not\n",
    "\n",
    "5. **book_table** table book option available or not\n",
    "\n",
    "6. **rate** contains the overall rating of the restaurant out of 5\n",
    "\n",
    "7. **votes** contains total number of rating for the restaurant as of the above mentioned date\n",
    "\n",
    "8. **phone** contains the phone number of the restaurant\n",
    "\n",
    "9. **location** contains the neighborhood in which the restaurant is located\n",
    "\n",
    "10. **rest_type** restaurant type\n",
    "\n",
    "11. **dish_liked** dishes people liked in the restaurant\n",
    "\n",
    "12. **cuisines** food styles, separated by comma\n",
    "\n",
    "13. **approx_cost(for two people)** contains the approximate cost for meal for two people\n",
    "\n",
    "14. **reviews_list** list of tuples containing reviews for the restaurant, each tuple\n",
    "\n",
    "15. **menu_item** contains list of menus available in the restaurant\n",
    "\n",
    "16. **listed_in(type)** type of meal\n",
    "\n",
    "17. **listed_in(city)** contains the neighborhood in which the restaurant is listed"
   ]
  },
  {
   "cell_type": "code",
   "execution_count": 7,
   "metadata": {
    "execution": {
     "iopub.execute_input": "2020-11-19T18:53:31.528910Z",
     "iopub.status.busy": "2020-11-19T18:53:31.528197Z",
     "iopub.status.idle": "2020-11-19T18:53:33.533566Z",
     "shell.execute_reply": "2020-11-19T18:53:33.532750Z"
    },
    "papermill": {
     "duration": 2.078979,
     "end_time": "2020-11-19T18:53:33.533692",
     "exception": false,
     "start_time": "2020-11-19T18:53:31.454713",
     "status": "completed"
    },
    "tags": []
   },
   "outputs": [],
   "source": [
    "# Drop the duplicates\n",
    "\n",
    "df.drop_duplicates(inplace=True)"
   ]
  },
  {
   "cell_type": "code",
   "execution_count": 8,
   "metadata": {
    "execution": {
     "iopub.execute_input": "2020-11-19T18:53:33.683981Z",
     "iopub.status.busy": "2020-11-19T18:53:33.683248Z",
     "iopub.status.idle": "2020-11-19T18:53:33.715437Z",
     "shell.execute_reply": "2020-11-19T18:53:33.714686Z"
    },
    "papermill": {
     "duration": 0.118955,
     "end_time": "2020-11-19T18:53:33.715572",
     "exception": false,
     "start_time": "2020-11-19T18:53:33.596617",
     "status": "completed"
    },
    "tags": []
   },
   "outputs": [],
   "source": [
    "# Deleting Unnnecessary/Repetitive Columns\n",
    "\n",
    "del df['url']\n",
    "del df['address']\n",
    "del df['phone']\n",
    "del df['listed_in(city)']"
   ]
  },
  {
   "cell_type": "markdown",
   "metadata": {
    "papermill": {
     "duration": 0.06201,
     "end_time": "2020-11-19T18:53:33.839914",
     "exception": false,
     "start_time": "2020-11-19T18:53:33.777904",
     "status": "completed"
    },
    "tags": []
   },
   "source": [
    "Transform columns to appropriate data types"
   ]
  },
  {
   "cell_type": "code",
   "execution_count": 9,
   "metadata": {
    "execution": {
     "iopub.execute_input": "2020-11-19T18:53:33.996529Z",
     "iopub.status.busy": "2020-11-19T18:53:33.976680Z",
     "iopub.status.idle": "2020-11-19T18:53:34.052381Z",
     "shell.execute_reply": "2020-11-19T18:53:34.051585Z"
    },
    "papermill": {
     "duration": 0.150754,
     "end_time": "2020-11-19T18:53:34.052504",
     "exception": false,
     "start_time": "2020-11-19T18:53:33.901750",
     "status": "completed"
    },
    "tags": []
   },
   "outputs": [],
   "source": [
    "# Adjust rate column \n",
    "\n",
    "# convert \"NEW\" & \"-\" to np.nan\n",
    "df.rate.replace(('NEW','-'),np.nan,inplace =True)\n",
    "# convert to string\n",
    "df.rate = df.rate.astype('str')\n",
    "# remove the \"/5\" \n",
    "df.rate = df.rate.apply(lambda x: x.replace('/5','').strip())\n",
    "# convert column type to float\n",
    "df.rate = df.rate.astype('float')"
   ]
  },
  {
   "cell_type": "code",
   "execution_count": 10,
   "metadata": {
    "execution": {
     "iopub.execute_input": "2020-11-19T18:53:34.201238Z",
     "iopub.status.busy": "2020-11-19T18:53:34.200511Z",
     "iopub.status.idle": "2020-11-19T18:53:34.243212Z",
     "shell.execute_reply": "2020-11-19T18:53:34.242455Z"
    },
    "papermill": {
     "duration": 0.128742,
     "end_time": "2020-11-19T18:53:34.243341",
     "exception": false,
     "start_time": "2020-11-19T18:53:34.114599",
     "status": "completed"
    },
    "tags": []
   },
   "outputs": [],
   "source": [
    "# Adjust cost column\n",
    "\n",
    "# convert to string\n",
    "df['approx_cost(for two people)'] = df['approx_cost(for two people)'].astype('str')\n",
    "# remove the \",\"\n",
    "df['approx_cost(for two people)'] = df['approx_cost(for two people)'].apply(lambda x: x.replace(',',''))\n",
    "# convert column type to float\n",
    "df['approx_cost(for two people)'] = df['approx_cost(for two people)'].astype('float')"
   ]
  },
  {
   "cell_type": "code",
   "execution_count": 11,
   "metadata": {
    "execution": {
     "iopub.execute_input": "2020-11-19T18:53:34.383112Z",
     "iopub.status.busy": "2020-11-19T18:53:34.380014Z",
     "iopub.status.idle": "2020-11-19T18:53:34.427165Z",
     "shell.execute_reply": "2020-11-19T18:53:34.426483Z"
    },
    "papermill": {
     "duration": 0.121607,
     "end_time": "2020-11-19T18:53:34.427304",
     "exception": false,
     "start_time": "2020-11-19T18:53:34.305697",
     "status": "completed"
    },
    "tags": []
   },
   "outputs": [],
   "source": [
    "# convert to bool\n",
    "df.online_order.replace(('Yes','No'),(True, False),inplace=True)\n",
    "df.book_table.replace(('Yes','No'),(True, False),inplace=True)"
   ]
  },
  {
   "cell_type": "code",
   "execution_count": 12,
   "metadata": {
    "execution": {
     "iopub.execute_input": "2020-11-19T18:53:34.558985Z",
     "iopub.status.busy": "2020-11-19T18:53:34.558246Z",
     "iopub.status.idle": "2020-11-19T18:53:34.567389Z",
     "shell.execute_reply": "2020-11-19T18:53:34.566717Z"
    },
    "papermill": {
     "duration": 0.077054,
     "end_time": "2020-11-19T18:53:34.567527",
     "exception": false,
     "start_time": "2020-11-19T18:53:34.490473",
     "status": "completed"
    },
    "tags": []
   },
   "outputs": [
    {
     "data": {
      "text/plain": [
       "Index(['name', 'online_order', 'book_table', 'rate', 'votes', 'location',\n",
       "       'rest_type', 'dish_liked', 'cuisines', 'cost', 'reviews_list',\n",
       "       'menu_item', 'meal_type'],\n",
       "      dtype='object')"
      ]
     },
     "execution_count": 12,
     "metadata": {},
     "output_type": "execute_result"
    }
   ],
   "source": [
    "# Rename columns\n",
    "\n",
    "zomato = df\n",
    "zomato = zomato.rename(columns={'approx_cost(for two people)':'cost','listed_in(type)':'meal_type'})\n",
    "zomato.columns"
   ]
  },
  {
   "cell_type": "markdown",
   "metadata": {
    "papermill": {
     "duration": 0.063687,
     "end_time": "2020-11-19T18:53:34.694556",
     "exception": false,
     "start_time": "2020-11-19T18:53:34.630869",
     "status": "completed"
    },
    "tags": []
   },
   "source": [
    "Fill in missing values in rate column by extracting rate from reviews_list"
   ]
  },
  {
   "cell_type": "code",
   "execution_count": 13,
   "metadata": {
    "execution": {
     "iopub.execute_input": "2020-11-19T18:53:34.898945Z",
     "iopub.status.busy": "2020-11-19T18:53:34.826588Z",
     "iopub.status.idle": "2020-11-19T18:53:58.222200Z",
     "shell.execute_reply": "2020-11-19T18:53:58.221550Z"
    },
    "papermill": {
     "duration": 23.464489,
     "end_time": "2020-11-19T18:53:58.222324",
     "exception": false,
     "start_time": "2020-11-19T18:53:34.757835",
     "status": "completed"
    },
    "tags": []
   },
   "outputs": [],
   "source": [
    "# return to a list of tuples\n",
    "import ast\n",
    "zomato.reviews_list = zomato.reviews_list.apply(lambda x: ast.literal_eval(x))"
   ]
  },
  {
   "cell_type": "code",
   "execution_count": 14,
   "metadata": {
    "execution": {
     "iopub.execute_input": "2020-11-19T18:53:58.358140Z",
     "iopub.status.busy": "2020-11-19T18:53:58.357250Z",
     "iopub.status.idle": "2020-11-19T18:53:58.360251Z",
     "shell.execute_reply": "2020-11-19T18:53:58.359533Z"
    },
    "papermill": {
     "duration": 0.074004,
     "end_time": "2020-11-19T18:53:58.360371",
     "exception": false,
     "start_time": "2020-11-19T18:53:58.286367",
     "status": "completed"
    },
    "tags": []
   },
   "outputs": [],
   "source": [
    "# extract the rate value out of a string inside tuple\n",
    "def get_rate(x):\n",
    "    \n",
    "    # ensure that x is not Null and there is more than one rate\n",
    "    if not x or len(x) <= 1:\n",
    "        return None\n",
    "    rate = [float(i[0].replace('Rated','').strip())  for i in x if type(i[0])== str]\n",
    "    return round((sum(rate)/len(rate)),1)"
   ]
  },
  {
   "cell_type": "code",
   "execution_count": 15,
   "metadata": {
    "execution": {
     "iopub.execute_input": "2020-11-19T18:53:58.496136Z",
     "iopub.status.busy": "2020-11-19T18:53:58.495393Z",
     "iopub.status.idle": "2020-11-19T18:53:59.885620Z",
     "shell.execute_reply": "2020-11-19T18:53:59.884993Z"
    },
    "papermill": {
     "duration": 1.46059,
     "end_time": "2020-11-19T18:53:59.885748",
     "exception": false,
     "start_time": "2020-11-19T18:53:58.425158",
     "status": "completed"
    },
    "tags": []
   },
   "outputs": [],
   "source": [
    "# create new temporary column to store rate from reviews\n",
    "zomato['review_rate']  = zomato.reviews_list.apply(lambda x : get_rate(x))"
   ]
  },
  {
   "cell_type": "code",
   "execution_count": 16,
   "metadata": {
    "execution": {
     "iopub.execute_input": "2020-11-19T18:54:00.025297Z",
     "iopub.status.busy": "2020-11-19T18:54:00.020447Z",
     "iopub.status.idle": "2020-11-19T18:54:00.761127Z",
     "shell.execute_reply": "2020-11-19T18:54:00.760406Z"
    },
    "papermill": {
     "duration": 0.811454,
     "end_time": "2020-11-19T18:54:00.761252",
     "exception": false,
     "start_time": "2020-11-19T18:53:59.949798",
     "status": "completed"
    },
    "tags": []
   },
   "outputs": [],
   "source": [
    "# apply the changes\n",
    "nan_index = zomato.query('rate != rate & review_rate == review_rate').index\n",
    "for i in nan_index:\n",
    "    zomato.loc[i,'rate'] = zomato.loc[i,'review_rate'] "
   ]
  },
  {
   "cell_type": "code",
   "execution_count": 17,
   "metadata": {
    "execution": {
     "iopub.execute_input": "2020-11-19T18:54:00.932851Z",
     "iopub.status.busy": "2020-11-19T18:54:00.931674Z",
     "iopub.status.idle": "2020-11-19T18:54:00.938425Z",
     "shell.execute_reply": "2020-11-19T18:54:00.937470Z"
    },
    "papermill": {
     "duration": 0.105967,
     "end_time": "2020-11-19T18:54:00.938606",
     "exception": false,
     "start_time": "2020-11-19T18:54:00.832639",
     "status": "completed"
    },
    "tags": []
   },
   "outputs": [],
   "source": [
    "# drop the review_rate column\n",
    "zomato.drop(columns='review_rate',axis=1,inplace=True)"
   ]
  },
  {
   "cell_type": "code",
   "execution_count": 18,
   "metadata": {
    "execution": {
     "iopub.execute_input": "2020-11-19T18:54:01.128626Z",
     "iopub.status.busy": "2020-11-19T18:54:01.127406Z",
     "iopub.status.idle": "2020-11-19T18:54:01.150450Z",
     "shell.execute_reply": "2020-11-19T18:54:01.149673Z"
    },
    "papermill": {
     "duration": 0.114573,
     "end_time": "2020-11-19T18:54:01.150618",
     "exception": false,
     "start_time": "2020-11-19T18:54:01.036045",
     "status": "completed"
    },
    "tags": []
   },
   "outputs": [],
   "source": [
    "# Drop null values\n",
    "zomato.dropna(subset=['rate', 'cost'],inplace=True)"
   ]
  },
  {
   "cell_type": "code",
   "execution_count": 19,
   "metadata": {
    "execution": {
     "iopub.execute_input": "2020-11-19T18:54:01.328712Z",
     "iopub.status.busy": "2020-11-19T18:54:01.327548Z",
     "iopub.status.idle": "2020-11-19T18:54:01.339526Z",
     "shell.execute_reply": "2020-11-19T18:54:01.338796Z"
    },
    "papermill": {
     "duration": 0.121603,
     "end_time": "2020-11-19T18:54:01.339651",
     "exception": false,
     "start_time": "2020-11-19T18:54:01.218048",
     "status": "completed"
    },
    "tags": []
   },
   "outputs": [
    {
     "name": "stdout",
     "output_type": "stream",
     "text": [
      "Percentage NULL or NA values\n"
     ]
    },
    {
     "data": {
      "text/plain": [
       "name             0.00\n",
       "online_order     0.00\n",
       "book_table       0.00\n",
       "rate             0.00\n",
       "votes            0.00\n",
       "location         0.00\n",
       "rest_type        0.34\n",
       "dish_liked      45.28\n",
       "cuisines         0.02\n",
       "cost             0.00\n",
       "reviews_list     0.00\n",
       "menu_item        0.00\n",
       "meal_type        0.00\n",
       "dtype: float64"
      ]
     },
     "execution_count": 19,
     "metadata": {},
     "output_type": "execute_result"
    }
   ],
   "source": [
    "print(\"Percentage NULL or NA values\")\n",
    "((zomato.isna().sum()/zomato.shape[0])*100).round(2)"
   ]
  },
  {
   "cell_type": "markdown",
   "metadata": {
    "papermill": {
     "duration": 0.065719,
     "end_time": "2020-11-19T18:54:01.471172",
     "exception": false,
     "start_time": "2020-11-19T18:54:01.405453",
     "status": "completed"
    },
    "tags": []
   },
   "source": [
    "Fill in missing values in dish_liked column by extracting dish names from reviews_list"
   ]
  },
  {
   "cell_type": "code",
   "execution_count": 20,
   "metadata": {
    "execution": {
     "iopub.execute_input": "2020-11-19T18:54:01.617960Z",
     "iopub.status.busy": "2020-11-19T18:54:01.616945Z",
     "iopub.status.idle": "2020-11-19T18:54:01.620424Z",
     "shell.execute_reply": "2020-11-19T18:54:01.619683Z"
    },
    "papermill": {
     "duration": 0.077399,
     "end_time": "2020-11-19T18:54:01.620545",
     "exception": false,
     "start_time": "2020-11-19T18:54:01.543146",
     "status": "completed"
    },
    "tags": []
   },
   "outputs": [],
   "source": [
    "# clear the text\n",
    "def clear_text(t):\n",
    "    \n",
    "    return ' '.join([i[1].replace(\"RATED\\n  \",'') for i in t]).encode('utf8').decode('ascii',errors='replace').\\\n",
    "           replace('?','').replace('�','').replace('\\n','').replace('.',' ').strip().lower()"
   ]
  },
  {
   "cell_type": "code",
   "execution_count": 21,
   "metadata": {
    "execution": {
     "iopub.execute_input": "2020-11-19T18:54:01.762516Z",
     "iopub.status.busy": "2020-11-19T18:54:01.761783Z",
     "iopub.status.idle": "2020-11-19T18:54:08.118799Z",
     "shell.execute_reply": "2020-11-19T18:54:08.118025Z"
    },
    "papermill": {
     "duration": 6.428383,
     "end_time": "2020-11-19T18:54:08.118942",
     "exception": false,
     "start_time": "2020-11-19T18:54:01.690559",
     "status": "completed"
    },
    "tags": []
   },
   "outputs": [],
   "source": [
    "# make a new column reviews_text\n",
    "zomato['reviews_text'] = zomato.reviews_list.apply(lambda x: clear_text(x))"
   ]
  },
  {
   "cell_type": "code",
   "execution_count": 22,
   "metadata": {
    "execution": {
     "iopub.execute_input": "2020-11-19T18:54:08.271975Z",
     "iopub.status.busy": "2020-11-19T18:54:08.256536Z",
     "iopub.status.idle": "2020-11-19T18:54:08.289804Z",
     "shell.execute_reply": "2020-11-19T18:54:08.289150Z"
    },
    "papermill": {
     "duration": 0.104643,
     "end_time": "2020-11-19T18:54:08.289926",
     "exception": false,
     "start_time": "2020-11-19T18:54:08.185283",
     "status": "completed"
    },
    "tags": []
   },
   "outputs": [],
   "source": [
    "# convert to lower case\n",
    "zomato.dish_liked = zomato.dish_liked.apply(lambda x:x.lower().strip() if isinstance(x,str) else x)"
   ]
  },
  {
   "cell_type": "code",
   "execution_count": 23,
   "metadata": {
    "execution": {
     "iopub.execute_input": "2020-11-19T18:54:08.440346Z",
     "iopub.status.busy": "2020-11-19T18:54:08.435324Z",
     "iopub.status.idle": "2020-11-19T18:54:08.498481Z",
     "shell.execute_reply": "2020-11-19T18:54:08.497700Z"
    },
    "papermill": {
     "duration": 0.142798,
     "end_time": "2020-11-19T18:54:08.498603",
     "exception": false,
     "start_time": "2020-11-19T18:54:08.355805",
     "status": "completed"
    },
    "tags": []
   },
   "outputs": [],
   "source": [
    "# collect the dishes' names and make a menu list for all kind of dishes\n",
    "menu_list = [e.strip() for i in zomato.dish_liked.tolist() if isinstance(i,str) and len(i) >0 for e in i.split(',')]\n",
    "\n",
    "# collect the unique dish name \n",
    "menu_set = set(menu_list)"
   ]
  },
  {
   "cell_type": "code",
   "execution_count": 24,
   "metadata": {
    "execution": {
     "iopub.execute_input": "2020-11-19T18:54:08.639251Z",
     "iopub.status.busy": "2020-11-19T18:54:08.638176Z",
     "iopub.status.idle": "2020-11-19T18:54:18.502046Z",
     "shell.execute_reply": "2020-11-19T18:54:18.501297Z"
    },
    "papermill": {
     "duration": 9.936541,
     "end_time": "2020-11-19T18:54:18.502186",
     "exception": false,
     "start_time": "2020-11-19T18:54:08.565645",
     "status": "completed"
    },
    "tags": []
   },
   "outputs": [],
   "source": [
    "#create a new column for the reviewed dish\n",
    "zomato['dish_n_review'] = zomato.reviews_text.apply(lambda x: ', '.join(list(menu_set.intersection(x.split(' ')))))"
   ]
  },
  {
   "cell_type": "code",
   "execution_count": 25,
   "metadata": {
    "execution": {
     "iopub.execute_input": "2020-11-19T18:54:18.640187Z",
     "iopub.status.busy": "2020-11-19T18:54:18.639081Z",
     "iopub.status.idle": "2020-11-19T18:54:18.686149Z",
     "shell.execute_reply": "2020-11-19T18:54:18.685443Z"
    },
    "papermill": {
     "duration": 0.118115,
     "end_time": "2020-11-19T18:54:18.686269",
     "exception": false,
     "start_time": "2020-11-19T18:54:18.568154",
     "status": "completed"
    },
    "tags": []
   },
   "outputs": [
    {
     "data": {
      "text/html": [
       "<div>\n",
       "<style scoped>\n",
       "    .dataframe tbody tr th:only-of-type {\n",
       "        vertical-align: middle;\n",
       "    }\n",
       "\n",
       "    .dataframe tbody tr th {\n",
       "        vertical-align: top;\n",
       "    }\n",
       "\n",
       "    .dataframe thead th {\n",
       "        text-align: right;\n",
       "    }\n",
       "</style>\n",
       "<table border=\"1\" class=\"dataframe\">\n",
       "  <thead>\n",
       "    <tr style=\"text-align: right;\">\n",
       "      <th></th>\n",
       "      <th>dish_liked</th>\n",
       "      <th>dish_n_review</th>\n",
       "    </tr>\n",
       "  </thead>\n",
       "  <tbody>\n",
       "    <tr>\n",
       "      <th>30621</th>\n",
       "      <td>NaN</td>\n",
       "      <td>tea</td>\n",
       "    </tr>\n",
       "    <tr>\n",
       "      <th>13350</th>\n",
       "      <td>NaN</td>\n",
       "      <td>thali, dj, beer</td>\n",
       "    </tr>\n",
       "    <tr>\n",
       "      <th>17633</th>\n",
       "      <td>NaN</td>\n",
       "      <td>paratha, coffee, tikka, cheesecake, chicken, d...</td>\n",
       "    </tr>\n",
       "    <tr>\n",
       "      <th>35389</th>\n",
       "      <td>NaN</td>\n",
       "      <td>sandwich, samosa, rasgulla, vada, chaat</td>\n",
       "    </tr>\n",
       "    <tr>\n",
       "      <th>9838</th>\n",
       "      <td>NaN</td>\n",
       "      <td>fish, chicken</td>\n",
       "    </tr>\n",
       "  </tbody>\n",
       "</table>\n",
       "</div>"
      ],
      "text/plain": [
       "      dish_liked                                      dish_n_review\n",
       "30621        NaN                                                tea\n",
       "13350        NaN                                    thali, dj, beer\n",
       "17633        NaN  paratha, coffee, tikka, cheesecake, chicken, d...\n",
       "35389        NaN            sandwich, samosa, rasgulla, vada, chaat\n",
       "9838         NaN                                      fish, chicken"
      ]
     },
     "execution_count": 25,
     "metadata": {},
     "output_type": "execute_result"
    }
   ],
   "source": [
    "# get sample to compare\n",
    "zomato.query('dish_liked != dish_liked')[['dish_liked','dish_n_review']].sample(5,random_state=1)"
   ]
  },
  {
   "cell_type": "code",
   "execution_count": 26,
   "metadata": {
    "execution": {
     "iopub.execute_input": "2020-11-19T18:54:18.834930Z",
     "iopub.status.busy": "2020-11-19T18:54:18.825856Z",
     "iopub.status.idle": "2020-11-19T18:54:45.298515Z",
     "shell.execute_reply": "2020-11-19T18:54:45.297813Z"
    },
    "papermill": {
     "duration": 26.545213,
     "end_time": "2020-11-19T18:54:45.298650",
     "exception": false,
     "start_time": "2020-11-19T18:54:18.753437",
     "status": "completed"
    },
    "tags": []
   },
   "outputs": [],
   "source": [
    "# fill in the missing values in dish_liked column with data from reviews\n",
    "nan_index = zomato.query('dish_liked != dish_liked & dish_n_review == dish_n_review').index\n",
    "for i in nan_index:\n",
    "    zomato.loc[i,'dish_liked'] = zomato.loc[i,'dish_n_review']"
   ]
  },
  {
   "cell_type": "code",
   "execution_count": 27,
   "metadata": {
    "execution": {
     "iopub.execute_input": "2020-11-19T18:54:45.443109Z",
     "iopub.status.busy": "2020-11-19T18:54:45.442378Z",
     "iopub.status.idle": "2020-11-19T18:54:45.666649Z",
     "shell.execute_reply": "2020-11-19T18:54:45.667231Z"
    },
    "papermill": {
     "duration": 0.301367,
     "end_time": "2020-11-19T18:54:45.667407",
     "exception": false,
     "start_time": "2020-11-19T18:54:45.366040",
     "status": "completed"
    },
    "tags": []
   },
   "outputs": [],
   "source": [
    "# drop the temporary columns\n",
    "del menu_list\n",
    "del menu_set\n",
    "del zomato['reviews_list']\n",
    "del zomato['dish_n_review']"
   ]
  },
  {
   "cell_type": "markdown",
   "metadata": {
    "papermill": {
     "duration": 0.066659,
     "end_time": "2020-11-19T18:54:45.802415",
     "exception": false,
     "start_time": "2020-11-19T18:54:45.735756",
     "status": "completed"
    },
    "tags": []
   },
   "source": [
    "Final changes"
   ]
  },
  {
   "cell_type": "code",
   "execution_count": 28,
   "metadata": {
    "execution": {
     "iopub.execute_input": "2020-11-19T18:54:45.942318Z",
     "iopub.status.busy": "2020-11-19T18:54:45.941630Z",
     "iopub.status.idle": "2020-11-19T18:54:45.970542Z",
     "shell.execute_reply": "2020-11-19T18:54:45.971146Z"
    },
    "papermill": {
     "duration": 0.101846,
     "end_time": "2020-11-19T18:54:45.971299",
     "exception": false,
     "start_time": "2020-11-19T18:54:45.869453",
     "status": "completed"
    },
    "tags": []
   },
   "outputs": [],
   "source": [
    "# Adjust the column names\n",
    "zomato.name = zomato.name.apply(lambda x:x.title())"
   ]
  },
  {
   "cell_type": "code",
   "execution_count": 29,
   "metadata": {
    "execution": {
     "iopub.execute_input": "2020-11-19T18:54:46.152618Z",
     "iopub.status.busy": "2020-11-19T18:54:46.111021Z",
     "iopub.status.idle": "2020-11-19T18:54:46.162242Z",
     "shell.execute_reply": "2020-11-19T18:54:46.161663Z"
    },
    "papermill": {
     "duration": 0.123471,
     "end_time": "2020-11-19T18:54:46.162365",
     "exception": false,
     "start_time": "2020-11-19T18:54:46.038894",
     "status": "completed"
    },
    "tags": []
   },
   "outputs": [
    {
     "data": {
      "text/plain": [
       "name            0.00\n",
       "online_order    0.00\n",
       "book_table      0.00\n",
       "rate            0.00\n",
       "votes           0.00\n",
       "location        0.00\n",
       "rest_type       0.34\n",
       "dish_liked      0.00\n",
       "cuisines        0.02\n",
       "cost            0.00\n",
       "menu_item       0.00\n",
       "meal_type       0.00\n",
       "reviews_text    0.00\n",
       "dtype: float64"
      ]
     },
     "execution_count": 29,
     "metadata": {},
     "output_type": "execute_result"
    }
   ],
   "source": [
    "#Check for percentage of null values \n",
    "((zomato.isna().sum()/zomato.shape[0])*100).round(2)"
   ]
  },
  {
   "cell_type": "code",
   "execution_count": 30,
   "metadata": {
    "execution": {
     "iopub.execute_input": "2020-11-19T18:54:46.358256Z",
     "iopub.status.busy": "2020-11-19T18:54:46.347595Z",
     "iopub.status.idle": "2020-11-19T18:54:46.374244Z",
     "shell.execute_reply": "2020-11-19T18:54:46.373506Z"
    },
    "papermill": {
     "duration": 0.099925,
     "end_time": "2020-11-19T18:54:46.374362",
     "exception": false,
     "start_time": "2020-11-19T18:54:46.274437",
     "status": "completed"
    },
    "tags": []
   },
   "outputs": [],
   "source": [
    "# Drop null values\n",
    "zomato.dropna(subset=['cuisines', 'rest_type'],inplace=True)"
   ]
  },
  {
   "cell_type": "code",
   "execution_count": 31,
   "metadata": {
    "execution": {
     "iopub.execute_input": "2020-11-19T18:54:46.532012Z",
     "iopub.status.busy": "2020-11-19T18:54:46.530999Z",
     "iopub.status.idle": "2020-11-19T18:54:46.535880Z",
     "shell.execute_reply": "2020-11-19T18:54:46.535187Z"
    },
    "papermill": {
     "duration": 0.0933,
     "end_time": "2020-11-19T18:54:46.536002",
     "exception": false,
     "start_time": "2020-11-19T18:54:46.442702",
     "status": "completed"
    },
    "tags": []
   },
   "outputs": [
    {
     "data": {
      "text/html": [
       "<div>\n",
       "<style scoped>\n",
       "    .dataframe tbody tr th:only-of-type {\n",
       "        vertical-align: middle;\n",
       "    }\n",
       "\n",
       "    .dataframe tbody tr th {\n",
       "        vertical-align: top;\n",
       "    }\n",
       "\n",
       "    .dataframe thead th {\n",
       "        text-align: right;\n",
       "    }\n",
       "</style>\n",
       "<table border=\"1\" class=\"dataframe\">\n",
       "  <thead>\n",
       "    <tr style=\"text-align: right;\">\n",
       "      <th></th>\n",
       "      <th>name</th>\n",
       "      <th>online_order</th>\n",
       "      <th>book_table</th>\n",
       "      <th>rate</th>\n",
       "      <th>votes</th>\n",
       "      <th>location</th>\n",
       "      <th>rest_type</th>\n",
       "      <th>dish_liked</th>\n",
       "      <th>cuisines</th>\n",
       "      <th>cost</th>\n",
       "      <th>menu_item</th>\n",
       "      <th>meal_type</th>\n",
       "      <th>reviews_text</th>\n",
       "    </tr>\n",
       "  </thead>\n",
       "  <tbody>\n",
       "    <tr>\n",
       "      <th>0</th>\n",
       "      <td>Jalsa</td>\n",
       "      <td>True</td>\n",
       "      <td>True</td>\n",
       "      <td>4.1</td>\n",
       "      <td>775</td>\n",
       "      <td>Banashankari</td>\n",
       "      <td>Casual Dining</td>\n",
       "      <td>pasta, lunch buffet, masala papad, paneer laja...</td>\n",
       "      <td>North Indian, Mughlai, Chinese</td>\n",
       "      <td>800.0</td>\n",
       "      <td>[]</td>\n",
       "      <td>Buffet</td>\n",
       "      <td>a beautiful place to dine in the interiors tak...</td>\n",
       "    </tr>\n",
       "    <tr>\n",
       "      <th>1</th>\n",
       "      <td>Spice Elephant</td>\n",
       "      <td>True</td>\n",
       "      <td>False</td>\n",
       "      <td>4.1</td>\n",
       "      <td>787</td>\n",
       "      <td>Banashankari</td>\n",
       "      <td>Casual Dining</td>\n",
       "      <td>momos, lunch buffet, chocolate nirvana, thai g...</td>\n",
       "      <td>Chinese, North Indian, Thai</td>\n",
       "      <td>800.0</td>\n",
       "      <td>[]</td>\n",
       "      <td>Buffet</td>\n",
       "      <td>had been here for dinner with family  turned o...</td>\n",
       "    </tr>\n",
       "    <tr>\n",
       "      <th>2</th>\n",
       "      <td>San Churro Cafe</td>\n",
       "      <td>True</td>\n",
       "      <td>False</td>\n",
       "      <td>3.8</td>\n",
       "      <td>918</td>\n",
       "      <td>Banashankari</td>\n",
       "      <td>Cafe, Casual Dining</td>\n",
       "      <td>churros, cannelloni, minestrone soup, hot choc...</td>\n",
       "      <td>Cafe, Mexican, Italian</td>\n",
       "      <td>800.0</td>\n",
       "      <td>[]</td>\n",
       "      <td>Buffet</td>\n",
       "      <td>ambience is not that good enough and it's not ...</td>\n",
       "    </tr>\n",
       "    <tr>\n",
       "      <th>3</th>\n",
       "      <td>Addhuri Udupi Bhojana</td>\n",
       "      <td>False</td>\n",
       "      <td>False</td>\n",
       "      <td>3.7</td>\n",
       "      <td>88</td>\n",
       "      <td>Banashankari</td>\n",
       "      <td>Quick Bites</td>\n",
       "      <td>masala dosa</td>\n",
       "      <td>South Indian, North Indian</td>\n",
       "      <td>300.0</td>\n",
       "      <td>[]</td>\n",
       "      <td>Buffet</td>\n",
       "      <td>great food and proper karnataka style full mea...</td>\n",
       "    </tr>\n",
       "    <tr>\n",
       "      <th>4</th>\n",
       "      <td>Grand Village</td>\n",
       "      <td>False</td>\n",
       "      <td>False</td>\n",
       "      <td>3.8</td>\n",
       "      <td>166</td>\n",
       "      <td>Basavanagudi</td>\n",
       "      <td>Casual Dining</td>\n",
       "      <td>panipuri, gol gappe</td>\n",
       "      <td>North Indian, Rajasthani</td>\n",
       "      <td>600.0</td>\n",
       "      <td>[]</td>\n",
       "      <td>Buffet</td>\n",
       "      <td>very good restaurant in neighbourhood  buffet ...</td>\n",
       "    </tr>\n",
       "  </tbody>\n",
       "</table>\n",
       "</div>"
      ],
      "text/plain": [
       "                    name  online_order  book_table  rate  votes      location  \\\n",
       "0                  Jalsa          True        True   4.1    775  Banashankari   \n",
       "1         Spice Elephant          True       False   4.1    787  Banashankari   \n",
       "2        San Churro Cafe          True       False   3.8    918  Banashankari   \n",
       "3  Addhuri Udupi Bhojana         False       False   3.7     88  Banashankari   \n",
       "4          Grand Village         False       False   3.8    166  Basavanagudi   \n",
       "\n",
       "             rest_type                                         dish_liked  \\\n",
       "0        Casual Dining  pasta, lunch buffet, masala papad, paneer laja...   \n",
       "1        Casual Dining  momos, lunch buffet, chocolate nirvana, thai g...   \n",
       "2  Cafe, Casual Dining  churros, cannelloni, minestrone soup, hot choc...   \n",
       "3          Quick Bites                                        masala dosa   \n",
       "4        Casual Dining                                panipuri, gol gappe   \n",
       "\n",
       "                         cuisines   cost menu_item meal_type  \\\n",
       "0  North Indian, Mughlai, Chinese  800.0        []    Buffet   \n",
       "1     Chinese, North Indian, Thai  800.0        []    Buffet   \n",
       "2          Cafe, Mexican, Italian  800.0        []    Buffet   \n",
       "3      South Indian, North Indian  300.0        []    Buffet   \n",
       "4        North Indian, Rajasthani  600.0        []    Buffet   \n",
       "\n",
       "                                        reviews_text  \n",
       "0  a beautiful place to dine in the interiors tak...  \n",
       "1  had been here for dinner with family  turned o...  \n",
       "2  ambience is not that good enough and it's not ...  \n",
       "3  great food and proper karnataka style full mea...  \n",
       "4  very good restaurant in neighbourhood  buffet ...  "
      ]
     },
     "execution_count": 31,
     "metadata": {},
     "output_type": "execute_result"
    }
   ],
   "source": [
    "zomato.head()"
   ]
  },
  {
   "cell_type": "code",
   "execution_count": 32,
   "metadata": {
    "execution": {
     "iopub.execute_input": "2020-11-19T18:54:46.678847Z",
     "iopub.status.busy": "2020-11-19T18:54:46.678059Z",
     "iopub.status.idle": "2020-11-19T18:54:46.736562Z",
     "shell.execute_reply": "2020-11-19T18:54:46.737077Z"
    },
    "papermill": {
     "duration": 0.132617,
     "end_time": "2020-11-19T18:54:46.737289",
     "exception": false,
     "start_time": "2020-11-19T18:54:46.604672",
     "status": "completed"
    },
    "tags": []
   },
   "outputs": [
    {
     "name": "stdout",
     "output_type": "stream",
     "text": [
      "<class 'pandas.core.frame.DataFrame'>\n",
      "Int64Index: 42741 entries, 0 to 51716\n",
      "Data columns (total 13 columns):\n",
      " #   Column        Non-Null Count  Dtype  \n",
      "---  ------        --------------  -----  \n",
      " 0   name          42741 non-null  object \n",
      " 1   online_order  42741 non-null  bool   \n",
      " 2   book_table    42741 non-null  bool   \n",
      " 3   rate          42741 non-null  float64\n",
      " 4   votes         42741 non-null  int64  \n",
      " 5   location      42741 non-null  object \n",
      " 6   rest_type     42741 non-null  object \n",
      " 7   dish_liked    42741 non-null  object \n",
      " 8   cuisines      42741 non-null  object \n",
      " 9   cost          42741 non-null  float64\n",
      " 10  menu_item     42741 non-null  object \n",
      " 11  meal_type     42741 non-null  object \n",
      " 12  reviews_text  42741 non-null  object \n",
      "dtypes: bool(2), float64(2), int64(1), object(8)\n",
      "memory usage: 4.0+ MB\n"
     ]
    }
   ],
   "source": [
    "zomato.info()"
   ]
  },
  {
   "cell_type": "code",
   "execution_count": 33,
   "metadata": {
    "execution": {
     "iopub.execute_input": "2020-11-19T18:54:46.883036Z",
     "iopub.status.busy": "2020-11-19T18:54:46.881422Z",
     "iopub.status.idle": "2020-11-19T18:54:46.888851Z",
     "shell.execute_reply": "2020-11-19T18:54:46.888119Z"
    },
    "papermill": {
     "duration": 0.082309,
     "end_time": "2020-11-19T18:54:46.888990",
     "exception": false,
     "start_time": "2020-11-19T18:54:46.806681",
     "status": "completed"
    },
    "tags": []
   },
   "outputs": [
    {
     "data": {
      "text/plain": [
       "Index(['online_order', 'book_table', 'rate', 'votes', 'cost'], dtype='object')"
      ]
     },
     "execution_count": 33,
     "metadata": {},
     "output_type": "execute_result"
    }
   ],
   "source": [
    "num_cols = zomato._get_numeric_data().columns \n",
    "num_cols"
   ]
  },
  {
   "cell_type": "markdown",
   "metadata": {
    "papermill": {
     "duration": 0.070687,
     "end_time": "2020-11-19T18:54:47.030609",
     "exception": false,
     "start_time": "2020-11-19T18:54:46.959922",
     "status": "completed"
    },
    "tags": []
   },
   "source": [
    "# 3. GRAPH VISUALIZATION"
   ]
  },
  {
   "cell_type": "code",
   "execution_count": 34,
   "metadata": {
    "execution": {
     "iopub.execute_input": "2020-11-19T18:54:47.181689Z",
     "iopub.status.busy": "2020-11-19T18:54:47.180850Z",
     "iopub.status.idle": "2020-11-19T18:54:48.578493Z",
     "shell.execute_reply": "2020-11-19T18:54:48.577614Z"
    },
    "papermill": {
     "duration": 1.477873,
     "end_time": "2020-11-19T18:54:48.578623",
     "exception": false,
     "start_time": "2020-11-19T18:54:47.100750",
     "status": "completed"
    },
    "tags": []
   },
   "outputs": [
    {
     "name": "stderr",
     "output_type": "stream",
     "text": [
      "/opt/conda/lib/python3.7/site-packages/ipykernel_launcher.py:5: MatplotlibDeprecationWarning: \n",
      "The mpl_toolkits.axes_grid module was deprecated in Matplotlib 2.1 and will be removed two minor releases later. Use mpl_toolkits.axes_grid1 and mpl_toolkits.axisartist, which provide the same functionality instead.\n",
      "  \"\"\"\n"
     ]
    }
   ],
   "source": [
    "import matplotlib.pyplot as plt\n",
    "%matplotlib inline\n",
    "import seaborn as sns\n",
    "from matplotlib.gridspec import GridSpec\n",
    "from mpl_toolkits.axes_grid.inset_locator import InsetPosition\n",
    "import folium\n",
    "from folium.plugins import HeatMap, FastMarkerCluster\n",
    "from matplotlib import rcParams"
   ]
  },
  {
   "cell_type": "code",
   "execution_count": 35,
   "metadata": {
    "execution": {
     "iopub.execute_input": "2020-11-19T18:54:48.730868Z",
     "iopub.status.busy": "2020-11-19T18:54:48.730081Z",
     "iopub.status.idle": "2020-11-19T18:54:50.266021Z",
     "shell.execute_reply": "2020-11-19T18:54:50.266628Z"
    },
    "papermill": {
     "duration": 1.616987,
     "end_time": "2020-11-19T18:54:50.266780",
     "exception": false,
     "start_time": "2020-11-19T18:54:48.649793",
     "status": "completed"
    },
    "tags": []
   },
   "outputs": [
    {
     "data": {
      "text/plain": [
       "Text(0.5, 1.0, 'Localities vs No.of Restaurants')"
      ]
     },
     "execution_count": 35,
     "metadata": {},
     "output_type": "execute_result"
    },
    {
     "data": {
      "image/png": "[encoded data removed]",
      "text/plain": [
       "<Figure size 1872x648 with 1 Axes>"
      ]
     },
     "metadata": {
      "needs_background": "light"
     },
     "output_type": "display_data"
    }
   ],
   "source": [
    "rcParams['figure.figsize'] = 26,9\n",
    "g = sns.countplot(x=\"location\",data=zomato, palette = \"dark\")\n",
    "g.set_xticklabels(g.get_xticklabels(), rotation=90, ha=\"right\")\n",
    "g \n",
    "plt.title('Localities vs No.of Restaurants',size = 20)"
   ]
  },
  {
   "cell_type": "code",
   "execution_count": 36,
   "metadata": {
    "execution": {
     "iopub.execute_input": "2020-11-19T18:54:50.456908Z",
     "iopub.status.busy": "2020-11-19T18:54:50.454732Z",
     "iopub.status.idle": "2020-11-19T18:54:50.702488Z",
     "shell.execute_reply": "2020-11-19T18:54:50.701503Z"
    },
    "papermill": {
     "duration": 0.357425,
     "end_time": "2020-11-19T18:54:50.702648",
     "exception": false,
     "start_time": "2020-11-19T18:54:50.345223",
     "status": "completed"
    },
    "tags": []
   },
   "outputs": [
    {
     "data": {
      "image/png": "[encoded data removed]",
      "text/plain": [
       "<Figure size 1080x576 with 1 Axes>"
      ]
     },
     "metadata": {
      "needs_background": "light"
     },
     "output_type": "display_data"
    }
   ],
   "source": [
    "labels=zomato['location'].value_counts()[:10].index\n",
    "values=zomato['location'].value_counts()[:10].values\n",
    "\n",
    "plt.figure(figsize = (15, 8))\n",
    "ax = sns.barplot(x=labels, y=values,palette='brg')\n",
    "for i, p in enumerate(ax.patches):\n",
    "    height = p.get_height()\n",
    "    ax.text(p.get_x()+p.get_width()/2., height + 0.1, values[i],ha=\"center\")"
   ]
  },
  {
   "cell_type": "markdown",
   "metadata": {
    "papermill": {
     "duration": 0.076362,
     "end_time": "2020-11-19T18:54:50.856057",
     "exception": false,
     "start_time": "2020-11-19T18:54:50.779695",
     "status": "completed"
    },
    "tags": []
   },
   "source": [
    "Most no.of restaurants are located in BTM."
   ]
  },
  {
   "cell_type": "code",
   "execution_count": 37,
   "metadata": {
    "execution": {
     "iopub.execute_input": "2020-11-19T18:54:51.035160Z",
     "iopub.status.busy": "2020-11-19T18:54:51.034165Z",
     "iopub.status.idle": "2020-11-19T18:54:51.376545Z",
     "shell.execute_reply": "2020-11-19T18:54:51.375916Z"
    },
    "papermill": {
     "duration": 0.444943,
     "end_time": "2020-11-19T18:54:51.376699",
     "exception": false,
     "start_time": "2020-11-19T18:54:50.931756",
     "status": "completed"
    },
    "tags": []
   },
   "outputs": [
    {
     "data": {
      "text/plain": [
       "Text(0, 0.5, 'Name of Restaurant')"
      ]
     },
     "execution_count": 37,
     "metadata": {},
     "output_type": "execute_result"
    },
    {
     "data": {
      "image/png": "[encoded data removed]",
      "text/plain": [
       "<Figure size 504x360 with 1 Axes>"
      ]
     },
     "metadata": {
      "needs_background": "light"
     },
     "output_type": "display_data"
    }
   ],
   "source": [
    "plt.figure(figsize=(7, 5))\n",
    "sns.set_style('darkgrid')\n",
    "chains= zomato['name'].value_counts()[:10]\n",
    "#online= df['']\n",
    "sns.barplot(x= chains, y = chains.index, palette= 'rocket')\n",
    "sns.despine()\n",
    "plt.title('Top 10 Restaurant Chains in Bangalore')\n",
    "plt.xlabel('Number of Outlets')\n",
    "plt.ylabel('Name of Restaurant')"
   ]
  },
  {
   "cell_type": "markdown",
   "metadata": {
    "papermill": {
     "duration": 0.076807,
     "end_time": "2020-11-19T18:54:51.532126",
     "exception": false,
     "start_time": "2020-11-19T18:54:51.455319",
     "status": "completed"
    },
    "tags": []
   },
   "source": [
    "Cafe Coffee Day has the most no.of brand outlets in the city."
   ]
  },
  {
   "cell_type": "code",
   "execution_count": 38,
   "metadata": {
    "execution": {
     "iopub.execute_input": "2020-11-19T18:54:51.724882Z",
     "iopub.status.busy": "2020-11-19T18:54:51.713546Z",
     "iopub.status.idle": "2020-11-19T18:54:52.026124Z",
     "shell.execute_reply": "2020-11-19T18:54:52.025171Z"
    },
    "papermill": {
     "duration": 0.417202,
     "end_time": "2020-11-19T18:54:52.026285",
     "exception": false,
     "start_time": "2020-11-19T18:54:51.609083",
     "status": "completed"
    },
    "tags": []
   },
   "outputs": [
    {
     "data": {
      "text/plain": [
       "Text(0, 0.5, 'Restaurant type')"
      ]
     },
     "execution_count": 38,
     "metadata": {},
     "output_type": "execute_result"
    },
    {
     "data": {
      "image/png": "[encoded data removed]",
      "text/plain": [
       "<Figure size 576x432 with 1 Axes>"
      ]
     },
     "metadata": {},
     "output_type": "display_data"
    }
   ],
   "source": [
    "rest_type= zomato['rest_type'].value_counts()[:5]\n",
    "plt.figure(figsize=(8, 6))\n",
    "sns.set_style('darkgrid')\n",
    "sns.set_palette(\"Reds\")\n",
    "sns.barplot(x= rest_type, y = rest_type.index)\n",
    "plt.title('Top 5 restaurant types in Bangalore')\n",
    "plt.xlabel('Count')\n",
    "plt.ylabel('Restaurant type')"
   ]
  },
  {
   "cell_type": "markdown",
   "metadata": {
    "papermill": {
     "duration": 0.081656,
     "end_time": "2020-11-19T18:54:52.194082",
     "exception": false,
     "start_time": "2020-11-19T18:54:52.112426",
     "status": "completed"
    },
    "tags": []
   },
   "source": [
    "The most common restaurant type is Quick Bites."
   ]
  },
  {
   "cell_type": "code",
   "execution_count": 39,
   "metadata": {
    "execution": {
     "iopub.execute_input": "2020-11-19T18:54:52.369965Z",
     "iopub.status.busy": "2020-11-19T18:54:52.366269Z",
     "iopub.status.idle": "2020-11-19T18:54:52.724033Z",
     "shell.execute_reply": "2020-11-19T18:54:52.724652Z"
    },
    "papermill": {
     "duration": 0.451328,
     "end_time": "2020-11-19T18:54:52.724819",
     "exception": false,
     "start_time": "2020-11-19T18:54:52.273491",
     "status": "completed"
    },
    "tags": []
   },
   "outputs": [
    {
     "data": {
      "text/plain": [
       "Text(0.5, 0, 'Ratings')"
      ]
     },
     "execution_count": 39,
     "metadata": {},
     "output_type": "execute_result"
    },
    {
     "data": {
      "image/png": "[encoded data removed]",
      "text/plain": [
       "<Figure size 504x432 with 1 Axes>"
      ]
     },
     "metadata": {},
     "output_type": "display_data"
    }
   ],
   "source": [
    "rating= zomato['rate']\n",
    "plt.figure(figsize=(7,6))\n",
    "sns.set_style('darkgrid')\n",
    "sns.distplot(rating, bins = 20,  color= 'red')\n",
    "plt.title('Rating distribution of the restaurants')\n",
    "plt.xlabel('Ratings')\n"
   ]
  },
  {
   "cell_type": "code",
   "execution_count": 40,
   "metadata": {
    "execution": {
     "iopub.execute_input": "2020-11-19T18:54:52.910614Z",
     "iopub.status.busy": "2020-11-19T18:54:52.909732Z",
     "iopub.status.idle": "2020-11-19T18:54:53.319776Z",
     "shell.execute_reply": "2020-11-19T18:54:53.320353Z"
    },
    "papermill": {
     "duration": 0.509953,
     "end_time": "2020-11-19T18:54:53.320505",
     "exception": false,
     "start_time": "2020-11-19T18:54:52.810552",
     "status": "completed"
    },
    "tags": []
   },
   "outputs": [
    {
     "data": {
      "text/plain": [
       "Text(0.5, 0, 'Cost for two people')"
      ]
     },
     "execution_count": 40,
     "metadata": {},
     "output_type": "execute_result"
    },
    {
     "data": {
      "image/png": "[encoded data removed]",
      "text/plain": [
       "<Figure size 432x432 with 1 Axes>"
      ]
     },
     "metadata": {},
     "output_type": "display_data"
    }
   ],
   "source": [
    "cost= zomato['cost']\n",
    "plt.figure(figsize=(6,6))\n",
    "sns.set_style('darkgrid')\n",
    "sns.distplot(cost, color= 'black',kde=False)\n",
    "plt.title('Approx. cost for two people in city of Bangalore')\n",
    "plt.xlabel('Cost for two people')"
   ]
  },
  {
   "cell_type": "code",
   "execution_count": 41,
   "metadata": {
    "execution": {
     "iopub.execute_input": "2020-11-19T18:54:53.510298Z",
     "iopub.status.busy": "2020-11-19T18:54:53.507290Z",
     "iopub.status.idle": "2020-11-19T18:54:54.239615Z",
     "shell.execute_reply": "2020-11-19T18:54:54.240156Z"
    },
    "papermill": {
     "duration": 0.835115,
     "end_time": "2020-11-19T18:54:54.240319",
     "exception": false,
     "start_time": "2020-11-19T18:54:53.405204",
     "status": "completed"
    },
    "tags": []
   },
   "outputs": [
    {
     "data": {
      "text/plain": [
       "Text(0.5, 1.0, 'Box Plot for Cost and Type')"
      ]
     },
     "execution_count": 41,
     "metadata": {},
     "output_type": "execute_result"
    },
    {
     "data": {
      "image/png": "[encoded data removed]",
      "text/plain": [
       "<Figure size 1656x1008 with 1 Axes>"
      ]
     },
     "metadata": {},
     "output_type": "display_data"
    }
   ],
   "source": [
    "fig = plt.figure(constrained_layout=True, figsize=(23, 14))\n",
    "gs = GridSpec(2, 5, figure=fig)\n",
    "ax5 = fig.add_subplot(gs[0, 3:])\n",
    "sns.boxplot(x='meal_type', y='cost', data=zomato, palette=['gray', 'crimson'], ax=ax5)\n",
    "ax5.set_title('Box Plot for Cost and Type', color='dimgrey', size=14)"
   ]
  },
  {
   "cell_type": "code",
   "execution_count": 42,
   "metadata": {
    "execution": {
     "iopub.execute_input": "2020-11-19T18:54:54.451978Z",
     "iopub.status.busy": "2020-11-19T18:54:54.434801Z",
     "iopub.status.idle": "2020-11-19T18:54:55.327511Z",
     "shell.execute_reply": "2020-11-19T18:54:55.328308Z"
    },
    "papermill": {
     "duration": 1.003179,
     "end_time": "2020-11-19T18:54:55.328502",
     "exception": false,
     "start_time": "2020-11-19T18:54:54.325323",
     "status": "completed"
    },
    "tags": []
   },
   "outputs": [
    {
     "data": {
      "text/plain": [
       "Text(0.5, 1.0, 'Box Plot for Cost')"
      ]
     },
     "execution_count": 42,
     "metadata": {},
     "output_type": "execute_result"
    },
    {
     "data": {
      "image/png": "[encoded data removed]",
      "text/plain": [
       "<Figure size 1800x720 with 1 Axes>"
      ]
     },
     "metadata": {},
     "output_type": "display_data"
    }
   ],
   "source": [
    "#sns.boxplot(x=zomato[\"cost\"],palette='Reds')\n",
    "\n",
    "fig = plt.figure(constrained_layout=True, figsize=(25, 10))\n",
    "gs = GridSpec(2, 5, figure=fig)\n",
    "ax5 = fig.add_subplot(gs[0, 3:])\n",
    "sns.boxplot(x='cost', data=zomato, palette=['salmon'], ax=ax5)\n",
    "ax5.set_title('Box Plot for Cost', color='black', size=14)"
   ]
  },
  {
   "cell_type": "markdown",
   "metadata": {
    "papermill": {
     "duration": 0.093591,
     "end_time": "2020-11-19T18:54:55.516017",
     "exception": false,
     "start_time": "2020-11-19T18:54:55.422426",
     "status": "completed"
    },
    "tags": []
   },
   "source": [
    "There are a few outliers in the cost column."
   ]
  },
  {
   "cell_type": "code",
   "execution_count": 43,
   "metadata": {
    "execution": {
     "iopub.execute_input": "2020-11-19T18:54:55.693083Z",
     "iopub.status.busy": "2020-11-19T18:54:55.691861Z",
     "iopub.status.idle": "2020-11-19T18:54:55.707821Z",
     "shell.execute_reply": "2020-11-19T18:54:55.708542Z"
    },
    "papermill": {
     "duration": 0.10733,
     "end_time": "2020-11-19T18:54:55.708694",
     "exception": false,
     "start_time": "2020-11-19T18:54:55.601364",
     "status": "completed"
    },
    "tags": []
   },
   "outputs": [
    {
     "name": "stdout",
     "output_type": "stream",
     "text": [
      "online_order      1.0\n",
      "book_table        0.0\n",
      "rate              0.6\n",
      "votes           243.0\n",
      "cost            400.0\n",
      "dtype: float64\n"
     ]
    }
   ],
   "source": [
    "Q1 = zomato.quantile(0.25)\n",
    "Q3 = zomato.quantile(0.75)\n",
    "IQR = Q3 - Q1\n",
    "print(IQR)"
   ]
  },
  {
   "cell_type": "code",
   "execution_count": 44,
   "metadata": {
    "execution": {
     "iopub.execute_input": "2020-11-19T18:54:55.887221Z",
     "iopub.status.busy": "2020-11-19T18:54:55.886082Z",
     "iopub.status.idle": "2020-11-19T18:54:55.889538Z",
     "shell.execute_reply": "2020-11-19T18:54:55.888888Z"
    },
    "papermill": {
     "duration": 0.094452,
     "end_time": "2020-11-19T18:54:55.889657",
     "exception": false,
     "start_time": "2020-11-19T18:54:55.795205",
     "status": "completed"
    },
    "tags": []
   },
   "outputs": [],
   "source": [
    "#zomato_out = zomato[~((zomato < (Q1 - 1.5 * IQR)) |(zomato > (Q3 + 1.5 * IQR))).any(axis=1)]\n",
    "#zomato_out.shape"
   ]
  },
  {
   "cell_type": "code",
   "execution_count": 45,
   "metadata": {
    "execution": {
     "iopub.execute_input": "2020-11-19T18:54:56.068779Z",
     "iopub.status.busy": "2020-11-19T18:54:56.067686Z",
     "iopub.status.idle": "2020-11-19T18:54:56.071591Z",
     "shell.execute_reply": "2020-11-19T18:54:56.072131Z"
    },
    "papermill": {
     "duration": 0.096559,
     "end_time": "2020-11-19T18:54:56.072279",
     "exception": false,
     "start_time": "2020-11-19T18:54:55.975720",
     "status": "completed"
    },
    "tags": []
   },
   "outputs": [
    {
     "data": {
      "text/plain": [
       "\"\\nfig = plt.figure(constrained_layout=True, figsize=(25, 10))\\ngs = GridSpec(2, 5, figure=fig)\\nax5 = fig.add_subplot(gs[0, 3:])\\nsns.boxplot(x='cost', data=zomato_out, palette=['crimson'], ax=ax5)\\nax5.set_title('Box Plot for Cost', color='dimgrey', size=14)\\n\""
      ]
     },
     "execution_count": 45,
     "metadata": {},
     "output_type": "execute_result"
    }
   ],
   "source": [
    "#sns.boxplot(x=zomato_out['cost'], palette='Reds')\n",
    "\"\"\"\n",
    "fig = plt.figure(constrained_layout=True, figsize=(25, 10))\n",
    "gs = GridSpec(2, 5, figure=fig)\n",
    "ax5 = fig.add_subplot(gs[0, 3:])\n",
    "sns.boxplot(x='cost', data=zomato_out, palette=['crimson'], ax=ax5)\n",
    "ax5.set_title('Box Plot for Cost', color='dimgrey', size=14)\n",
    "\"\"\""
   ]
  },
  {
   "cell_type": "markdown",
   "metadata": {
    "papermill": {
     "duration": 0.087532,
     "end_time": "2020-11-19T18:54:56.246026",
     "exception": false,
     "start_time": "2020-11-19T18:54:56.158494",
     "status": "completed"
    },
    "tags": []
   },
   "source": [
    "Outliers can be significantly filtered using IQR Score method.\n",
    "However, since they're non-anomalous, they need not be deleted."
   ]
  },
  {
   "cell_type": "code",
   "execution_count": 46,
   "metadata": {
    "execution": {
     "iopub.execute_input": "2020-11-19T18:54:56.425740Z",
     "iopub.status.busy": "2020-11-19T18:54:56.424627Z",
     "iopub.status.idle": "2020-11-19T18:54:56.450925Z",
     "shell.execute_reply": "2020-11-19T18:54:56.450342Z"
    },
    "papermill": {
     "duration": 0.117409,
     "end_time": "2020-11-19T18:54:56.451048",
     "exception": false,
     "start_time": "2020-11-19T18:54:56.333639",
     "status": "completed"
    },
    "tags": []
   },
   "outputs": [],
   "source": [
    "import plotly.offline as py\n",
    "import plotly.graph_objs as go"
   ]
  },
  {
   "cell_type": "code",
   "execution_count": 47,
   "metadata": {
    "execution": {
     "iopub.execute_input": "2020-11-19T18:54:56.632764Z",
     "iopub.status.busy": "2020-11-19T18:54:56.631983Z",
     "iopub.status.idle": "2020-11-19T18:54:57.551703Z",
     "shell.execute_reply": "2020-11-19T18:54:57.552235Z"
    },
    "papermill": {
     "duration": 1.014829,
     "end_time": "2020-11-19T18:54:57.552402",
     "exception": false,
     "start_time": "2020-11-19T18:54:56.537573",
     "status": "completed"
    },
    "tags": []
   },
   "outputs": [
    {
     "data": {
      "text/html": [
       "        <script type=\"text/javascript\">\n",
       "        window.PlotlyConfig = {MathJaxConfig: 'local'};\n",
       "        if (window.MathJax) {MathJax.Hub.Config({SVG: {font: \"STIX-Web\"}});}\n",
       "        if (typeof require !== 'undefined') {\n",
       "        require.undef(\"plotly\");\n",
       "        requirejs.config({\n",
       "            paths: {\n",
       "                'plotly': ['https://cdn.plot.ly/plotly-latest.min']\n",
       "            }\n",
       "        });\n",
       "        require(['plotly'], function(Plotly) {\n",
       "            window._Plotly = Plotly;\n",
       "        });\n",
       "        }\n",
       "        </script>\n",
       "        "
      ]
     },
     "metadata": {},
     "output_type": "display_data"
    },
    {
     "data": {
      "text/html": [
       "<div>                            <div id=\"4bc70015-80df-44a6-ba4a-202658fb992f\" class=\"plotly-graph-div\" style=\"height:500px; width:500px;\"></div>            <script type=\"text/javascript\">                require([\"plotly\"], function(Plotly) {                    window.PLOTLYENV=window.PLOTLYENV || {};                                    if (document.getElementById(\"4bc70015-80df-44a6-ba4a-202658fb992f\")) {                    Plotly.newPlot(                        \"4bc70015-80df-44a6-ba4a-202658fb992f\",                        [{\"labels\": [true, false], \"marker\": {\"colors\": [\"#FEBFB3\", \"#E1396C\"], \"line\": {\"color\": \"#000000\", \"width\": 2}}, \"textinfo\": \"value\", \"type\": \"pie\", \"values\": [27953, 14788]}],                        {\"height\": 500, \"template\": {\"data\": {\"bar\": [{\"error_x\": {\"color\": \"#2a3f5f\"}, \"error_y\": {\"color\": \"#2a3f5f\"}, \"marker\": {\"line\": {\"color\": \"#E5ECF6\", \"width\": 0.5}}, \"type\": \"bar\"}], \"barpolar\": [{\"marker\": {\"line\": {\"color\": \"#E5ECF6\", \"width\": 0.5}}, \"type\": \"barpolar\"}], \"carpet\": [{\"aaxis\": {\"endlinecolor\": \"#2a3f5f\", \"gridcolor\": \"white\", \"linecolor\": \"white\", \"minorgridcolor\": \"white\", \"startlinecolor\": \"#2a3f5f\"}, \"baxis\": {\"endlinecolor\": \"#2a3f5f\", \"gridcolor\": \"white\", \"linecolor\": \"white\", \"minorgridcolor\": \"white\", \"startlinecolor\": \"#2a3f5f\"}, \"type\": \"carpet\"}], \"choropleth\": [{\"colorbar\": {\"outlinewidth\": 0, \"ticks\": \"\"}, \"type\": \"choropleth\"}], \"contour\": [{\"colorbar\": {\"outlinewidth\": 0, \"ticks\": \"\"}, \"colorscale\": [[0.0, \"#0d0887\"], [0.1111111111111111, \"#46039f\"], [0.2222222222222222, \"#7201a8\"], [0.3333333333333333, \"#9c179e\"], [0.4444444444444444, \"#bd3786\"], [0.5555555555555556, \"#d8576b\"], [0.6666666666666666, \"#ed7953\"], [0.7777777777777778, \"#fb9f3a\"], [0.8888888888888888, \"#fdca26\"], [1.0, \"#f0f921\"]], \"type\": \"contour\"}], \"contourcarpet\": [{\"colorbar\": {\"outlinewidth\": 0, \"ticks\": \"\"}, \"type\": \"contourcarpet\"}], \"heatmap\": [{\"colorbar\": {\"outlinewidth\": 0, \"ticks\": \"\"}, \"colorscale\": [[0.0, \"#0d0887\"], [0.1111111111111111, \"#46039f\"], [0.2222222222222222, \"#7201a8\"], [0.3333333333333333, \"#9c179e\"], [0.4444444444444444, \"#bd3786\"], [0.5555555555555556, \"#d8576b\"], [0.6666666666666666, \"#ed7953\"], [0.7777777777777778, \"#fb9f3a\"], [0.8888888888888888, \"#fdca26\"], [1.0, \"#f0f921\"]], \"type\": \"heatmap\"}], \"heatmapgl\": [{\"colorbar\": {\"outlinewidth\": 0, \"ticks\": \"\"}, \"colorscale\": [[0.0, \"#0d0887\"], [0.1111111111111111, \"#46039f\"], [0.2222222222222222, \"#7201a8\"], [0.3333333333333333, \"#9c179e\"], [0.4444444444444444, \"#bd3786\"], [0.5555555555555556, \"#d8576b\"], [0.6666666666666666, \"#ed7953\"], [0.7777777777777778, \"#fb9f3a\"], [0.8888888888888888, \"#fdca26\"], [1.0, \"#f0f921\"]], \"type\": \"heatmapgl\"}], \"histogram\": [{\"marker\": {\"colorbar\": {\"outlinewidth\": 0, \"ticks\": \"\"}}, \"type\": \"histogram\"}], \"histogram2d\": [{\"colorbar\": {\"outlinewidth\": 0, \"ticks\": \"\"}, \"colorscale\": [[0.0, \"#0d0887\"], [0.1111111111111111, \"#46039f\"], [0.2222222222222222, \"#7201a8\"], [0.3333333333333333, \"#9c179e\"], [0.4444444444444444, \"#bd3786\"], [0.5555555555555556, \"#d8576b\"], [0.6666666666666666, \"#ed7953\"], [0.7777777777777778, \"#fb9f3a\"], [0.8888888888888888, \"#fdca26\"], [1.0, \"#f0f921\"]], \"type\": \"histogram2d\"}], \"histogram2dcontour\": [{\"colorbar\": {\"outlinewidth\": 0, \"ticks\": \"\"}, \"colorscale\": [[0.0, \"#0d0887\"], [0.1111111111111111, \"#46039f\"], [0.2222222222222222, \"#7201a8\"], [0.3333333333333333, \"#9c179e\"], [0.4444444444444444, \"#bd3786\"], [0.5555555555555556, \"#d8576b\"], [0.6666666666666666, \"#ed7953\"], [0.7777777777777778, \"#fb9f3a\"], [0.8888888888888888, \"#fdca26\"], [1.0, \"#f0f921\"]], \"type\": \"histogram2dcontour\"}], \"mesh3d\": [{\"colorbar\": {\"outlinewidth\": 0, \"ticks\": \"\"}, \"type\": \"mesh3d\"}], \"parcoords\": [{\"line\": {\"colorbar\": {\"outlinewidth\": 0, \"ticks\": \"\"}}, \"type\": \"parcoords\"}], \"pie\": [{\"automargin\": true, \"type\": \"pie\"}], \"scatter\": [{\"marker\": {\"colorbar\": {\"outlinewidth\": 0, \"ticks\": \"\"}}, \"type\": \"scatter\"}], \"scatter3d\": [{\"line\": {\"colorbar\": {\"outlinewidth\": 0, \"ticks\": \"\"}}, \"marker\": {\"colorbar\": {\"outlinewidth\": 0, \"ticks\": \"\"}}, \"type\": \"scatter3d\"}], \"scattercarpet\": [{\"marker\": {\"colorbar\": {\"outlinewidth\": 0, \"ticks\": \"\"}}, \"type\": \"scattercarpet\"}], \"scattergeo\": [{\"marker\": {\"colorbar\": {\"outlinewidth\": 0, \"ticks\": \"\"}}, \"type\": \"scattergeo\"}], \"scattergl\": [{\"marker\": {\"colorbar\": {\"outlinewidth\": 0, \"ticks\": \"\"}}, \"type\": \"scattergl\"}], \"scattermapbox\": [{\"marker\": {\"colorbar\": {\"outlinewidth\": 0, \"ticks\": \"\"}}, \"type\": \"scattermapbox\"}], \"scatterpolar\": [{\"marker\": {\"colorbar\": {\"outlinewidth\": 0, \"ticks\": \"\"}}, \"type\": \"scatterpolar\"}], \"scatterpolargl\": [{\"marker\": {\"colorbar\": {\"outlinewidth\": 0, \"ticks\": \"\"}}, \"type\": \"scatterpolargl\"}], \"scatterternary\": [{\"marker\": {\"colorbar\": {\"outlinewidth\": 0, \"ticks\": \"\"}}, \"type\": \"scatterternary\"}], \"surface\": [{\"colorbar\": {\"outlinewidth\": 0, \"ticks\": \"\"}, \"colorscale\": [[0.0, \"#0d0887\"], [0.1111111111111111, \"#46039f\"], [0.2222222222222222, \"#7201a8\"], [0.3333333333333333, \"#9c179e\"], [0.4444444444444444, \"#bd3786\"], [0.5555555555555556, \"#d8576b\"], [0.6666666666666666, \"#ed7953\"], [0.7777777777777778, \"#fb9f3a\"], [0.8888888888888888, \"#fdca26\"], [1.0, \"#f0f921\"]], \"type\": \"surface\"}], \"table\": [{\"cells\": {\"fill\": {\"color\": \"#EBF0F8\"}, \"line\": {\"color\": \"white\"}}, \"header\": {\"fill\": {\"color\": \"#C8D4E3\"}, \"line\": {\"color\": \"white\"}}, \"type\": \"table\"}]}, \"layout\": {\"annotationdefaults\": {\"arrowcolor\": \"#2a3f5f\", \"arrowhead\": 0, \"arrowwidth\": 1}, \"coloraxis\": {\"colorbar\": {\"outlinewidth\": 0, \"ticks\": \"\"}}, \"colorscale\": {\"diverging\": [[0, \"#8e0152\"], [0.1, \"#c51b7d\"], [0.2, \"#de77ae\"], [0.3, \"#f1b6da\"], [0.4, \"#fde0ef\"], [0.5, \"#f7f7f7\"], [0.6, \"#e6f5d0\"], [0.7, \"#b8e186\"], [0.8, \"#7fbc41\"], [0.9, \"#4d9221\"], [1, \"#276419\"]], \"sequential\": [[0.0, \"#0d0887\"], [0.1111111111111111, \"#46039f\"], [0.2222222222222222, \"#7201a8\"], [0.3333333333333333, \"#9c179e\"], [0.4444444444444444, \"#bd3786\"], [0.5555555555555556, \"#d8576b\"], [0.6666666666666666, \"#ed7953\"], [0.7777777777777778, \"#fb9f3a\"], [0.8888888888888888, \"#fdca26\"], [1.0, \"#f0f921\"]], \"sequentialminus\": [[0.0, \"#0d0887\"], [0.1111111111111111, \"#46039f\"], [0.2222222222222222, \"#7201a8\"], [0.3333333333333333, \"#9c179e\"], [0.4444444444444444, \"#bd3786\"], [0.5555555555555556, \"#d8576b\"], [0.6666666666666666, \"#ed7953\"], [0.7777777777777778, \"#fb9f3a\"], [0.8888888888888888, \"#fdca26\"], [1.0, \"#f0f921\"]]}, \"colorway\": [\"#636efa\", \"#EF553B\", \"#00cc96\", \"#ab63fa\", \"#FFA15A\", \"#19d3f3\", \"#FF6692\", \"#B6E880\", \"#FF97FF\", \"#FECB52\"], \"font\": {\"color\": \"#2a3f5f\"}, \"geo\": {\"bgcolor\": \"white\", \"lakecolor\": \"white\", \"landcolor\": \"#E5ECF6\", \"showlakes\": true, \"showland\": true, \"subunitcolor\": \"white\"}, \"hoverlabel\": {\"align\": \"left\"}, \"hovermode\": \"closest\", \"mapbox\": {\"style\": \"light\"}, \"paper_bgcolor\": \"white\", \"plot_bgcolor\": \"#E5ECF6\", \"polar\": {\"angularaxis\": {\"gridcolor\": \"white\", \"linecolor\": \"white\", \"ticks\": \"\"}, \"bgcolor\": \"#E5ECF6\", \"radialaxis\": {\"gridcolor\": \"white\", \"linecolor\": \"white\", \"ticks\": \"\"}}, \"scene\": {\"xaxis\": {\"backgroundcolor\": \"#E5ECF6\", \"gridcolor\": \"white\", \"gridwidth\": 2, \"linecolor\": \"white\", \"showbackground\": true, \"ticks\": \"\", \"zerolinecolor\": \"white\"}, \"yaxis\": {\"backgroundcolor\": \"#E5ECF6\", \"gridcolor\": \"white\", \"gridwidth\": 2, \"linecolor\": \"white\", \"showbackground\": true, \"ticks\": \"\", \"zerolinecolor\": \"white\"}, \"zaxis\": {\"backgroundcolor\": \"#E5ECF6\", \"gridcolor\": \"white\", \"gridwidth\": 2, \"linecolor\": \"white\", \"showbackground\": true, \"ticks\": \"\", \"zerolinecolor\": \"white\"}}, \"shapedefaults\": {\"line\": {\"color\": \"#2a3f5f\"}}, \"ternary\": {\"aaxis\": {\"gridcolor\": \"white\", \"linecolor\": \"white\", \"ticks\": \"\"}, \"baxis\": {\"gridcolor\": \"white\", \"linecolor\": \"white\", \"ticks\": \"\"}, \"bgcolor\": \"#E5ECF6\", \"caxis\": {\"gridcolor\": \"white\", \"linecolor\": \"white\", \"ticks\": \"\"}}, \"title\": {\"x\": 0.05}, \"xaxis\": {\"automargin\": true, \"gridcolor\": \"white\", \"linecolor\": \"white\", \"ticks\": \"\", \"title\": {\"standoff\": 15}, \"zerolinecolor\": \"white\", \"zerolinewidth\": 2}, \"yaxis\": {\"automargin\": true, \"gridcolor\": \"white\", \"linecolor\": \"white\", \"ticks\": \"\", \"title\": {\"standoff\": 15}, \"zerolinecolor\": \"white\", \"zerolinewidth\": 2}}}, \"title\": {\"text\": \"Accepting vs not accepting online orders\"}, \"width\": 500},                        {\"responsive\": true}                    ).then(function(){\n",
       "                            \n",
       "var gd = document.getElementById('4bc70015-80df-44a6-ba4a-202658fb992f');\n",
       "var x = new MutationObserver(function (mutations, observer) {{\n",
       "        var display = window.getComputedStyle(gd).display;\n",
       "        if (!display || display === 'none') {{\n",
       "            console.log([gd, 'removed!']);\n",
       "            Plotly.purge(gd);\n",
       "            observer.disconnect();\n",
       "        }}\n",
       "}});\n",
       "\n",
       "// Listen for the removal of the full notebook cells\n",
       "var notebookContainer = gd.closest('#notebook-container');\n",
       "if (notebookContainer) {{\n",
       "    x.observe(notebookContainer, {childList: true});\n",
       "}}\n",
       "\n",
       "// Listen for the clearing of the current output cell\n",
       "var outputEl = gd.closest('.output');\n",
       "if (outputEl) {{\n",
       "    x.observe(outputEl, {childList: true});\n",
       "}}\n",
       "\n",
       "                        })                };                });            </script>        </div>"
      ]
     },
     "metadata": {},
     "output_type": "display_data"
    }
   ],
   "source": [
    "o=zomato['online_order'].value_counts()\n",
    "colors = ['#FEBFB3', '#E1396C']\n",
    "\n",
    "trace=go.Pie(labels=o.index,values=o,textinfo=\"value\",\n",
    "            marker=dict(colors=colors, \n",
    "                           line=dict(color='#000000', width=2)))\n",
    "layout=go.Layout(title=\"Accepting vs not accepting online orders\",width=500,height=500)\n",
    "fig=go.Figure(data=[trace],layout=layout)\n",
    "py.iplot(fig, filename='pie_chart_subplots')"
   ]
  },
  {
   "cell_type": "markdown",
   "metadata": {
    "papermill": {
     "duration": 0.087545,
     "end_time": "2020-11-19T18:54:57.728367",
     "exception": false,
     "start_time": "2020-11-19T18:54:57.640822",
     "status": "completed"
    },
    "tags": []
   },
   "source": [
    "# 4. NORMALIZATION AND STANDARDIZATION"
   ]
  },
  {
   "cell_type": "code",
   "execution_count": 48,
   "metadata": {
    "execution": {
     "iopub.execute_input": "2020-11-19T18:54:57.914216Z",
     "iopub.status.busy": "2020-11-19T18:54:57.913461Z",
     "iopub.status.idle": "2020-11-19T18:54:57.937198Z",
     "shell.execute_reply": "2020-11-19T18:54:57.936439Z"
    },
    "papermill": {
     "duration": 0.120287,
     "end_time": "2020-11-19T18:54:57.937318",
     "exception": false,
     "start_time": "2020-11-19T18:54:57.817031",
     "status": "completed"
    },
    "tags": []
   },
   "outputs": [
    {
     "data": {
      "text/html": [
       "<div>\n",
       "<style scoped>\n",
       "    .dataframe tbody tr th:only-of-type {\n",
       "        vertical-align: middle;\n",
       "    }\n",
       "\n",
       "    .dataframe tbody tr th {\n",
       "        vertical-align: top;\n",
       "    }\n",
       "\n",
       "    .dataframe thead th {\n",
       "        text-align: right;\n",
       "    }\n",
       "</style>\n",
       "<table border=\"1\" class=\"dataframe\">\n",
       "  <thead>\n",
       "    <tr style=\"text-align: right;\">\n",
       "      <th></th>\n",
       "      <th>rate</th>\n",
       "      <th>votes</th>\n",
       "      <th>cost</th>\n",
       "    </tr>\n",
       "  </thead>\n",
       "  <tbody>\n",
       "    <tr>\n",
       "      <th>count</th>\n",
       "      <td>42741.000000</td>\n",
       "      <td>42741.000000</td>\n",
       "      <td>42741.000000</td>\n",
       "    </tr>\n",
       "    <tr>\n",
       "      <th>mean</th>\n",
       "      <td>3.698334</td>\n",
       "      <td>340.938490</td>\n",
       "      <td>597.772771</td>\n",
       "    </tr>\n",
       "    <tr>\n",
       "      <th>std</th>\n",
       "      <td>0.486326</td>\n",
       "      <td>871.364993</td>\n",
       "      <td>460.918542</td>\n",
       "    </tr>\n",
       "    <tr>\n",
       "      <th>min</th>\n",
       "      <td>1.000000</td>\n",
       "      <td>0.000000</td>\n",
       "      <td>40.000000</td>\n",
       "    </tr>\n",
       "    <tr>\n",
       "      <th>25%</th>\n",
       "      <td>3.400000</td>\n",
       "      <td>18.000000</td>\n",
       "      <td>300.000000</td>\n",
       "    </tr>\n",
       "    <tr>\n",
       "      <th>50%</th>\n",
       "      <td>3.700000</td>\n",
       "      <td>68.000000</td>\n",
       "      <td>450.000000</td>\n",
       "    </tr>\n",
       "    <tr>\n",
       "      <th>75%</th>\n",
       "      <td>4.000000</td>\n",
       "      <td>261.000000</td>\n",
       "      <td>700.000000</td>\n",
       "    </tr>\n",
       "    <tr>\n",
       "      <th>max</th>\n",
       "      <td>5.000000</td>\n",
       "      <td>16832.000000</td>\n",
       "      <td>6000.000000</td>\n",
       "    </tr>\n",
       "  </tbody>\n",
       "</table>\n",
       "</div>"
      ],
      "text/plain": [
       "               rate         votes          cost\n",
       "count  42741.000000  42741.000000  42741.000000\n",
       "mean       3.698334    340.938490    597.772771\n",
       "std        0.486326    871.364993    460.918542\n",
       "min        1.000000      0.000000     40.000000\n",
       "25%        3.400000     18.000000    300.000000\n",
       "50%        3.700000     68.000000    450.000000\n",
       "75%        4.000000    261.000000    700.000000\n",
       "max        5.000000  16832.000000   6000.000000"
      ]
     },
     "execution_count": 48,
     "metadata": {},
     "output_type": "execute_result"
    }
   ],
   "source": [
    "zomato.describe()"
   ]
  },
  {
   "cell_type": "code",
   "execution_count": 49,
   "metadata": {
    "execution": {
     "iopub.execute_input": "2020-11-19T18:54:58.121050Z",
     "iopub.status.busy": "2020-11-19T18:54:58.120348Z",
     "iopub.status.idle": "2020-11-19T18:54:58.123519Z",
     "shell.execute_reply": "2020-11-19T18:54:58.124123Z"
    },
    "papermill": {
     "duration": 0.096907,
     "end_time": "2020-11-19T18:54:58.124274",
     "exception": false,
     "start_time": "2020-11-19T18:54:58.027367",
     "status": "completed"
    },
    "tags": []
   },
   "outputs": [],
   "source": [
    "#zomato_out.describe() #without outliers"
   ]
  },
  {
   "cell_type": "code",
   "execution_count": 50,
   "metadata": {
    "execution": {
     "iopub.execute_input": "2020-11-19T18:54:58.308801Z",
     "iopub.status.busy": "2020-11-19T18:54:58.308033Z",
     "iopub.status.idle": "2020-11-19T18:54:58.366166Z",
     "shell.execute_reply": "2020-11-19T18:54:58.365362Z"
    },
    "papermill": {
     "duration": 0.151892,
     "end_time": "2020-11-19T18:54:58.366287",
     "exception": false,
     "start_time": "2020-11-19T18:54:58.214395",
     "status": "completed"
    },
    "tags": []
   },
   "outputs": [],
   "source": [
    "from sklearn.preprocessing import normalize"
   ]
  },
  {
   "cell_type": "markdown",
   "metadata": {
    "papermill": {
     "duration": 0.088766,
     "end_time": "2020-11-19T18:54:58.544600",
     "exception": false,
     "start_time": "2020-11-19T18:54:58.455834",
     "status": "completed"
    },
    "tags": []
   },
   "source": [
    "Normalize numeric columns using normalize()"
   ]
  },
  {
   "cell_type": "code",
   "execution_count": 51,
   "metadata": {
    "execution": {
     "iopub.execute_input": "2020-11-19T18:54:58.792840Z",
     "iopub.status.busy": "2020-11-19T18:54:58.792066Z",
     "iopub.status.idle": "2020-11-19T18:54:58.816151Z",
     "shell.execute_reply": "2020-11-19T18:54:58.816705Z"
    },
    "papermill": {
     "duration": 0.183211,
     "end_time": "2020-11-19T18:54:58.816872",
     "exception": false,
     "start_time": "2020-11-19T18:54:58.633661",
     "status": "completed"
    },
    "tags": []
   },
   "outputs": [
    {
     "name": "stdout",
     "output_type": "stream",
     "text": [
      "[[5.31658371e-03 5.31658371e-03 4.92756539e-03 ... 4.66821985e-03\n",
      "  5.57592926e-03 4.40887430e-03]\n",
      " [4.00637617e-03 4.06841038e-03 4.74561720e-03 ... 1.39576976e-04\n",
      "  1.22000616e-03 6.72037294e-05]\n",
      " [5.12644889e-03 5.12644889e-03 5.12644889e-03 ... 9.61209167e-03\n",
      "  1.60201528e-02 9.61209167e-03]]\n"
     ]
    }
   ],
   "source": [
    "x=np.array([zomato['rate'],zomato['votes'],zomato['cost']])\n",
    "normalizes_X=normalize(x)\n",
    "print(normalizes_X)\n",
    "zomato1=zomato.drop(['rate','votes','cost'],axis=1)\n",
    "zomato1.insert(4,'rate',normalizes_X[0])\n",
    "zomato1.insert(5,'votes',normalizes_X[1])\n",
    "zomato1.insert(6,'cost',normalizes_X[2])"
   ]
  },
  {
   "cell_type": "code",
   "execution_count": 52,
   "metadata": {
    "execution": {
     "iopub.execute_input": "2020-11-19T18:54:59.004007Z",
     "iopub.status.busy": "2020-11-19T18:54:59.003298Z",
     "iopub.status.idle": "2020-11-19T18:54:59.026381Z",
     "shell.execute_reply": "2020-11-19T18:54:59.026900Z"
    },
    "papermill": {
     "duration": 0.120402,
     "end_time": "2020-11-19T18:54:59.027050",
     "exception": false,
     "start_time": "2020-11-19T18:54:58.906648",
     "status": "completed"
    },
    "tags": []
   },
   "outputs": [
    {
     "data": {
      "text/html": [
       "<div>\n",
       "<style scoped>\n",
       "    .dataframe tbody tr th:only-of-type {\n",
       "        vertical-align: middle;\n",
       "    }\n",
       "\n",
       "    .dataframe tbody tr th {\n",
       "        vertical-align: top;\n",
       "    }\n",
       "\n",
       "    .dataframe thead th {\n",
       "        text-align: right;\n",
       "    }\n",
       "</style>\n",
       "<table border=\"1\" class=\"dataframe\">\n",
       "  <thead>\n",
       "    <tr style=\"text-align: right;\">\n",
       "      <th></th>\n",
       "      <th>rate</th>\n",
       "      <th>votes</th>\n",
       "      <th>cost</th>\n",
       "    </tr>\n",
       "  </thead>\n",
       "  <tbody>\n",
       "    <tr>\n",
       "      <th>count</th>\n",
       "      <td>42741.000000</td>\n",
       "      <td>42741.000000</td>\n",
       "      <td>42741.000000</td>\n",
       "    </tr>\n",
       "    <tr>\n",
       "      <th>mean</th>\n",
       "      <td>0.004796</td>\n",
       "      <td>0.001762</td>\n",
       "      <td>0.003831</td>\n",
       "    </tr>\n",
       "    <tr>\n",
       "      <th>std</th>\n",
       "      <td>0.000631</td>\n",
       "      <td>0.004505</td>\n",
       "      <td>0.002954</td>\n",
       "    </tr>\n",
       "    <tr>\n",
       "      <th>min</th>\n",
       "      <td>0.001297</td>\n",
       "      <td>0.000000</td>\n",
       "      <td>0.000256</td>\n",
       "    </tr>\n",
       "    <tr>\n",
       "      <th>25%</th>\n",
       "      <td>0.004409</td>\n",
       "      <td>0.000093</td>\n",
       "      <td>0.001922</td>\n",
       "    </tr>\n",
       "    <tr>\n",
       "      <th>50%</th>\n",
       "      <td>0.004798</td>\n",
       "      <td>0.000352</td>\n",
       "      <td>0.002884</td>\n",
       "    </tr>\n",
       "    <tr>\n",
       "      <th>75%</th>\n",
       "      <td>0.005187</td>\n",
       "      <td>0.001349</td>\n",
       "      <td>0.004486</td>\n",
       "    </tr>\n",
       "    <tr>\n",
       "      <th>max</th>\n",
       "      <td>0.006484</td>\n",
       "      <td>0.087013</td>\n",
       "      <td>0.038448</td>\n",
       "    </tr>\n",
       "  </tbody>\n",
       "</table>\n",
       "</div>"
      ],
      "text/plain": [
       "               rate         votes          cost\n",
       "count  42741.000000  42741.000000  42741.000000\n",
       "mean       0.004796      0.001762      0.003831\n",
       "std        0.000631      0.004505      0.002954\n",
       "min        0.001297      0.000000      0.000256\n",
       "25%        0.004409      0.000093      0.001922\n",
       "50%        0.004798      0.000352      0.002884\n",
       "75%        0.005187      0.001349      0.004486\n",
       "max        0.006484      0.087013      0.038448"
      ]
     },
     "execution_count": 52,
     "metadata": {},
     "output_type": "execute_result"
    }
   ],
   "source": [
    "zomato1.describe()"
   ]
  },
  {
   "cell_type": "code",
   "execution_count": 53,
   "metadata": {
    "execution": {
     "iopub.execute_input": "2020-11-19T18:54:59.223275Z",
     "iopub.status.busy": "2020-11-19T18:54:59.220500Z",
     "iopub.status.idle": "2020-11-19T18:54:59.589141Z",
     "shell.execute_reply": "2020-11-19T18:54:59.588369Z"
    },
    "papermill": {
     "duration": 0.471344,
     "end_time": "2020-11-19T18:54:59.589263",
     "exception": false,
     "start_time": "2020-11-19T18:54:59.117919",
     "status": "completed"
    },
    "tags": []
   },
   "outputs": [
    {
     "data": {
      "text/plain": [
       "<matplotlib.axes._subplots.AxesSubplot at 0x7fae58da3d10>"
      ]
     },
     "execution_count": 53,
     "metadata": {},
     "output_type": "execute_result"
    },
    {
     "data": {
      "image/png": "[encoded data removed]",
      "text/plain": [
       "<Figure size 1872x648 with 1 Axes>"
      ]
     },
     "metadata": {},
     "output_type": "display_data"
    }
   ],
   "source": [
    "sns.kdeplot(zomato1['rate'],color='red')"
   ]
  },
  {
   "cell_type": "markdown",
   "metadata": {
    "papermill": {
     "duration": 0.093243,
     "end_time": "2020-11-19T18:54:59.775204",
     "exception": false,
     "start_time": "2020-11-19T18:54:59.681961",
     "status": "completed"
    },
    "tags": []
   },
   "source": [
    "# 5. HYPOTHESIS TESTING"
   ]
  },
  {
   "cell_type": "markdown",
   "metadata": {
    "papermill": {
     "duration": 0.09244,
     "end_time": "2020-11-19T18:54:59.961298",
     "exception": false,
     "start_time": "2020-11-19T18:54:59.868858",
     "status": "completed"
    },
    "tags": []
   },
   "source": [
    "If mean of cost for two ppl , x_bar=600, rating of resturant, rating=3.5"
   ]
  },
  {
   "cell_type": "code",
   "execution_count": 54,
   "metadata": {
    "execution": {
     "iopub.execute_input": "2020-11-19T18:55:00.156485Z",
     "iopub.status.busy": "2020-11-19T18:55:00.155674Z",
     "iopub.status.idle": "2020-11-19T18:55:05.247631Z",
     "shell.execute_reply": "2020-11-19T18:55:05.246807Z"
    },
    "papermill": {
     "duration": 5.192999,
     "end_time": "2020-11-19T18:55:05.247762",
     "exception": false,
     "start_time": "2020-11-19T18:55:00.054763",
     "status": "completed"
    },
    "tags": []
   },
   "outputs": [],
   "source": [
    "import numpy as np\n",
    "import pandas as pd\n",
    "import matplotlib.pyplot as plt\n",
    "import seaborn as sns\n",
    "import scipy.stats as stats # some useful stuff\n",
    "df=pd.read_csv(\"../input/zomato-bangalore-restaurants/zomato.csv\")"
   ]
  },
  {
   "cell_type": "code",
   "execution_count": 55,
   "metadata": {
    "execution": {
     "iopub.execute_input": "2020-11-19T18:55:05.445253Z",
     "iopub.status.busy": "2020-11-19T18:55:05.444147Z",
     "iopub.status.idle": "2020-11-19T18:55:05.449181Z",
     "shell.execute_reply": "2020-11-19T18:55:05.450031Z"
    },
    "papermill": {
     "duration": 0.109263,
     "end_time": "2020-11-19T18:55:05.450261",
     "exception": false,
     "start_time": "2020-11-19T18:55:05.340998",
     "status": "completed"
    },
    "tags": []
   },
   "outputs": [
    {
     "name": "stdout",
     "output_type": "stream",
     "text": [
      "mu:  597.7727708757399 , sigma: 460.91315043788416\n"
     ]
    }
   ],
   "source": [
    "cost=zomato['cost']\n",
    "mu = cost.mean()\n",
    "sigma = cost.std(ddof=0)\n",
    "print(\"mu: \", mu, \", sigma:\", sigma)"
   ]
  },
  {
   "cell_type": "markdown",
   "metadata": {
    "papermill": {
     "duration": 0.127773,
     "end_time": "2020-11-19T18:55:05.681129",
     "exception": false,
     "start_time": "2020-11-19T18:55:05.553356",
     "status": "completed"
    },
    "tags": []
   },
   "source": [
    "Considering a sample where rating = 3.5 yields a mean, x_bar = 600. We are testing if this hypothesis is from our dataset using z-test. First we state the null hypothesis and alternative hypothesis like this;\n",
    "\n",
    "    H0: The sample is from the zomato restaurants, x_bar = μ.\n",
    "    HA: The sample is not from the zomato restaurants, x_bar != (not equal) μ.\n",
    "\n",
    "Then, we specify a significance (alpha) level ,α = 0.05. Next, we use a z table to look up the critical z value that cooresponds to this α level. Here we are doing a two-tailed test because we don't care if the sample mean is greater than or less than the population mean. We just are testing to see if the two are equal or not. Next we calculate the z-statitic for the sample mean compared to the population mean dividing by the standard deviation of the sample mean, which is the standard error σ/sqrt(N). If this z-statistic is less than z-critical then we accept the null hypothesis, otherwise we reject the null and accept the alternative hypothesis."
   ]
  },
  {
   "cell_type": "code",
   "execution_count": 56,
   "metadata": {
    "execution": {
     "iopub.execute_input": "2020-11-19T18:55:05.887067Z",
     "iopub.status.busy": "2020-11-19T18:55:05.886169Z",
     "iopub.status.idle": "2020-11-19T18:55:05.890929Z",
     "shell.execute_reply": "2020-11-19T18:55:05.889983Z"
    },
    "papermill": {
     "duration": 0.107326,
     "end_time": "2020-11-19T18:55:05.891075",
     "exception": false,
     "start_time": "2020-11-19T18:55:05.783749",
     "status": "completed"
    },
    "tags": []
   },
   "outputs": [
    {
     "name": "stdout",
     "output_type": "stream",
     "text": [
      "0.009040237078187978\n"
     ]
    }
   ],
   "source": [
    "z_critical = 1.96 # alpha level of 0.05 and two-tailed test\n",
    "rating = 3.5\n",
    "x_bar = 600\n",
    "SE = sigma/np.sqrt(rating)\n",
    "z_stat = (x_bar - mu)/SE\n",
    "print(z_stat)"
   ]
  },
  {
   "cell_type": "markdown",
   "metadata": {
    "papermill": {
     "duration": 0.094342,
     "end_time": "2020-11-19T18:55:06.086048",
     "exception": false,
     "start_time": "2020-11-19T18:55:05.991706",
     "status": "completed"
    },
    "tags": []
   },
   "source": [
    "\n",
    "\n",
    "Since z_stat is less than z_critical we fail to reject the null hypothesis. "
   ]
  },
  {
   "cell_type": "markdown",
   "metadata": {
    "papermill": {
     "duration": 0.093653,
     "end_time": "2020-11-19T18:55:06.273999",
     "exception": false,
     "start_time": "2020-11-19T18:55:06.180346",
     "status": "completed"
    },
    "tags": []
   },
   "source": [
    "# 6. CORRELATION"
   ]
  },
  {
   "cell_type": "code",
   "execution_count": 57,
   "metadata": {
    "execution": {
     "iopub.execute_input": "2020-11-19T18:55:06.476756Z",
     "iopub.status.busy": "2020-11-19T18:55:06.475829Z",
     "iopub.status.idle": "2020-11-19T18:55:06.907232Z",
     "shell.execute_reply": "2020-11-19T18:55:06.906587Z"
    },
    "papermill": {
     "duration": 0.53957,
     "end_time": "2020-11-19T18:55:06.907360",
     "exception": false,
     "start_time": "2020-11-19T18:55:06.367790",
     "status": "completed"
    },
    "tags": []
   },
   "outputs": [
    {
     "data": {
      "image/png": "[encoded data removed]",
      "text/plain": [
       "<Figure size 1440x576 with 1 Axes>"
      ]
     },
     "metadata": {},
     "output_type": "display_data"
    }
   ],
   "source": [
    "plt.figure(figsize=(20,8))\n",
    "plt.scatter(zomato[\"rate\"], zomato[\"cost\"],color='red')\n",
    "plt.title(\"Rate vs Cost\")\n",
    "plt.show()\n"
   ]
  },
  {
   "cell_type": "markdown",
   "metadata": {
    "papermill": {
     "duration": 0.095723,
     "end_time": "2020-11-19T18:55:07.099018",
     "exception": false,
     "start_time": "2020-11-19T18:55:07.003295",
     "status": "completed"
    },
    "tags": []
   },
   "source": [
    "This is a positive correlation i.e has a positive slope. As the rating of the restaurants increases, the cost also tends to increase."
   ]
  },
  {
   "cell_type": "code",
   "execution_count": 58,
   "metadata": {
    "execution": {
     "iopub.execute_input": "2020-11-19T18:55:07.301975Z",
     "iopub.status.busy": "2020-11-19T18:55:07.296723Z",
     "iopub.status.idle": "2020-11-19T18:55:07.744990Z",
     "shell.execute_reply": "2020-11-19T18:55:07.744260Z"
    },
    "papermill": {
     "duration": 0.549841,
     "end_time": "2020-11-19T18:55:07.745139",
     "exception": false,
     "start_time": "2020-11-19T18:55:07.195298",
     "status": "completed"
    },
    "tags": []
   },
   "outputs": [
    {
     "data": {
      "image/png": "[encoded data removed]",
      "text/plain": [
       "<Figure size 1440x576 with 1 Axes>"
      ]
     },
     "metadata": {},
     "output_type": "display_data"
    }
   ],
   "source": [
    "#Similar positive correlation\n",
    "plt.figure(figsize=(20,8))\n",
    "plt.scatter(zomato[\"rate\"], zomato[\"votes\"],color='red')\n",
    "plt.title(\"Rates vs Votes\")\n",
    "plt.show()"
   ]
  },
  {
   "cell_type": "code",
   "execution_count": 59,
   "metadata": {
    "execution": {
     "iopub.execute_input": "2020-11-19T18:55:07.950768Z",
     "iopub.status.busy": "2020-11-19T18:55:07.949976Z",
     "iopub.status.idle": "2020-11-19T18:55:08.363127Z",
     "shell.execute_reply": "2020-11-19T18:55:08.362524Z"
    },
    "papermill": {
     "duration": 0.51964,
     "end_time": "2020-11-19T18:55:08.363259",
     "exception": false,
     "start_time": "2020-11-19T18:55:07.843619",
     "status": "completed"
    },
    "tags": []
   },
   "outputs": [
    {
     "data": {
      "image/png": "[encoded data removed]",
      "text/plain": [
       "<Figure size 1440x576 with 1 Axes>"
      ]
     },
     "metadata": {},
     "output_type": "display_data"
    }
   ],
   "source": [
    "#Similar positive correlation\n",
    "plt.figure(figsize=(20,8))\n",
    "plt.scatter(zomato[\"cost\"], zomato[\"votes\"],color='red')\n",
    "plt.title(\"Cost vs Votes\")\n",
    "plt.show()"
   ]
  },
  {
   "cell_type": "code",
   "execution_count": 60,
   "metadata": {
    "execution": {
     "iopub.execute_input": "2020-11-19T18:55:08.566178Z",
     "iopub.status.busy": "2020-11-19T18:55:08.565444Z",
     "iopub.status.idle": "2020-11-19T18:55:08.575108Z",
     "shell.execute_reply": "2020-11-19T18:55:08.574438Z"
    },
    "papermill": {
     "duration": 0.1137,
     "end_time": "2020-11-19T18:55:08.575246",
     "exception": false,
     "start_time": "2020-11-19T18:55:08.461546",
     "status": "completed"
    },
    "tags": []
   },
   "outputs": [],
   "source": [
    "#To find the coefficient of correaltion between cost and votes\n",
    "corr_coeff_val=np.corrcoef(zomato[\"cost\"], zomato[\"votes\"])\n"
   ]
  },
  {
   "cell_type": "code",
   "execution_count": 61,
   "metadata": {
    "execution": {
     "iopub.execute_input": "2020-11-19T18:55:08.780445Z",
     "iopub.status.busy": "2020-11-19T18:55:08.779472Z",
     "iopub.status.idle": "2020-11-19T18:55:08.783851Z",
     "shell.execute_reply": "2020-11-19T18:55:08.783290Z"
    },
    "papermill": {
     "duration": 0.108354,
     "end_time": "2020-11-19T18:55:08.783978",
     "exception": false,
     "start_time": "2020-11-19T18:55:08.675624",
     "status": "completed"
    },
    "tags": []
   },
   "outputs": [],
   "source": [
    "#Coefficient of correaltion between cost and online_order\n",
    "corr_coeff_val=np.corrcoef(zomato[\"cost\"], zomato[\"online_order\"])"
   ]
  },
  {
   "cell_type": "code",
   "execution_count": 62,
   "metadata": {
    "execution": {
     "iopub.execute_input": "2020-11-19T18:55:08.990504Z",
     "iopub.status.busy": "2020-11-19T18:55:08.989736Z",
     "iopub.status.idle": "2020-11-19T18:55:09.327252Z",
     "shell.execute_reply": "2020-11-19T18:55:09.326636Z"
    },
    "papermill": {
     "duration": 0.442494,
     "end_time": "2020-11-19T18:55:09.327385",
     "exception": false,
     "start_time": "2020-11-19T18:55:08.884891",
     "status": "completed"
    },
    "tags": []
   },
   "outputs": [
    {
     "data": {
      "text/plain": [
       "<matplotlib.axes._subplots.AxesSubplot at 0x7fae56c61950>"
      ]
     },
     "execution_count": 62,
     "metadata": {},
     "output_type": "execute_result"
    },
    {
     "data": {
      "image/png": "[encoded data removed]",
      "text/plain": [
       "<Figure size 1440x576 with 2 Axes>"
      ]
     },
     "metadata": {},
     "output_type": "display_data"
    }
   ],
   "source": [
    "#Only for quantitative data\n",
    "plt.figure(figsize=(20,8))\n",
    "sns.heatmap(zomato.corr(), annot=True)"
   ]
  },
  {
   "cell_type": "code",
   "execution_count": 63,
   "metadata": {
    "execution": {
     "iopub.execute_input": "2020-11-19T18:55:09.536558Z",
     "iopub.status.busy": "2020-11-19T18:55:09.535785Z",
     "iopub.status.idle": "2020-11-19T18:55:10.589874Z",
     "shell.execute_reply": "2020-11-19T18:55:10.590489Z"
    },
    "papermill": {
     "duration": 1.162507,
     "end_time": "2020-11-19T18:55:10.590660",
     "exception": false,
     "start_time": "2020-11-19T18:55:09.428153",
     "status": "completed"
    },
    "tags": []
   },
   "outputs": [
    {
     "data": {
      "text/html": [
       "<div>\n",
       "<style scoped>\n",
       "    .dataframe tbody tr th:only-of-type {\n",
       "        vertical-align: middle;\n",
       "    }\n",
       "\n",
       "    .dataframe tbody tr th {\n",
       "        vertical-align: top;\n",
       "    }\n",
       "\n",
       "    .dataframe thead th {\n",
       "        text-align: right;\n",
       "    }\n",
       "</style>\n",
       "<table border=\"1\" class=\"dataframe\">\n",
       "  <thead>\n",
       "    <tr style=\"text-align: right;\">\n",
       "      <th></th>\n",
       "      <th>name</th>\n",
       "      <th>online_order</th>\n",
       "      <th>book_table</th>\n",
       "      <th>rate</th>\n",
       "      <th>votes</th>\n",
       "      <th>location</th>\n",
       "      <th>rest_type</th>\n",
       "      <th>dish_liked</th>\n",
       "      <th>cuisines</th>\n",
       "      <th>cost</th>\n",
       "      <th>menu_item</th>\n",
       "      <th>meal_type</th>\n",
       "      <th>reviews_text</th>\n",
       "    </tr>\n",
       "  </thead>\n",
       "  <tbody>\n",
       "    <tr>\n",
       "      <th>0</th>\n",
       "      <td>0</td>\n",
       "      <td>0</td>\n",
       "      <td>0</td>\n",
       "      <td>4.1</td>\n",
       "      <td>775</td>\n",
       "      <td>0</td>\n",
       "      <td>0</td>\n",
       "      <td>0</td>\n",
       "      <td>0</td>\n",
       "      <td>800.0</td>\n",
       "      <td>0</td>\n",
       "      <td>0</td>\n",
       "      <td>0</td>\n",
       "    </tr>\n",
       "    <tr>\n",
       "      <th>1</th>\n",
       "      <td>1</td>\n",
       "      <td>0</td>\n",
       "      <td>1</td>\n",
       "      <td>4.1</td>\n",
       "      <td>787</td>\n",
       "      <td>0</td>\n",
       "      <td>0</td>\n",
       "      <td>1</td>\n",
       "      <td>1</td>\n",
       "      <td>800.0</td>\n",
       "      <td>0</td>\n",
       "      <td>0</td>\n",
       "      <td>1</td>\n",
       "    </tr>\n",
       "    <tr>\n",
       "      <th>2</th>\n",
       "      <td>2</td>\n",
       "      <td>0</td>\n",
       "      <td>1</td>\n",
       "      <td>3.8</td>\n",
       "      <td>918</td>\n",
       "      <td>0</td>\n",
       "      <td>1</td>\n",
       "      <td>2</td>\n",
       "      <td>2</td>\n",
       "      <td>800.0</td>\n",
       "      <td>0</td>\n",
       "      <td>0</td>\n",
       "      <td>2</td>\n",
       "    </tr>\n",
       "    <tr>\n",
       "      <th>3</th>\n",
       "      <td>3</td>\n",
       "      <td>1</td>\n",
       "      <td>1</td>\n",
       "      <td>3.7</td>\n",
       "      <td>88</td>\n",
       "      <td>0</td>\n",
       "      <td>2</td>\n",
       "      <td>3</td>\n",
       "      <td>3</td>\n",
       "      <td>300.0</td>\n",
       "      <td>0</td>\n",
       "      <td>0</td>\n",
       "      <td>3</td>\n",
       "    </tr>\n",
       "    <tr>\n",
       "      <th>4</th>\n",
       "      <td>4</td>\n",
       "      <td>1</td>\n",
       "      <td>1</td>\n",
       "      <td>3.8</td>\n",
       "      <td>166</td>\n",
       "      <td>1</td>\n",
       "      <td>0</td>\n",
       "      <td>4</td>\n",
       "      <td>4</td>\n",
       "      <td>600.0</td>\n",
       "      <td>0</td>\n",
       "      <td>0</td>\n",
       "      <td>4</td>\n",
       "    </tr>\n",
       "  </tbody>\n",
       "</table>\n",
       "</div>"
      ],
      "text/plain": [
       "   name  online_order  book_table  rate  votes  location  rest_type  \\\n",
       "0     0             0           0   4.1    775         0          0   \n",
       "1     1             0           1   4.1    787         0          0   \n",
       "2     2             0           1   3.8    918         0          1   \n",
       "3     3             1           1   3.7     88         0          2   \n",
       "4     4             1           1   3.8    166         1          0   \n",
       "\n",
       "   dish_liked  cuisines   cost  menu_item  meal_type  reviews_text  \n",
       "0           0         0  800.0          0          0             0  \n",
       "1           1         1  800.0          0          0             1  \n",
       "2           2         2  800.0          0          0             2  \n",
       "3           3         3  300.0          0          0             3  \n",
       "4           4         4  600.0          0          0             4  "
      ]
     },
     "execution_count": 63,
     "metadata": {},
     "output_type": "execute_result"
    }
   ],
   "source": [
    "#Encode the input Variables\n",
    "def Encode(zomato):\n",
    "    for column in zomato.columns[~zomato.columns.isin(['rate', 'cost', 'votes'])]:\n",
    "        zomato[column] = zomato[column].factorize()[0]\n",
    "    return zomato\n",
    "\n",
    "zomato_en = Encode(zomato.copy())\n",
    "zomato_en.head()"
   ]
  },
  {
   "cell_type": "code",
   "execution_count": 64,
   "metadata": {
    "execution": {
     "iopub.execute_input": "2020-11-19T18:55:10.802547Z",
     "iopub.status.busy": "2020-11-19T18:55:10.801775Z",
     "iopub.status.idle": "2020-11-19T18:55:12.492633Z",
     "shell.execute_reply": "2020-11-19T18:55:12.493207Z"
    },
    "papermill": {
     "duration": 1.799631,
     "end_time": "2020-11-19T18:55:12.493366",
     "exception": false,
     "start_time": "2020-11-19T18:55:10.693735",
     "status": "completed"
    },
    "tags": []
   },
   "outputs": [
    {
     "data": {
      "text/plain": [
       "Index(['name', 'online_order', 'book_table', 'rate', 'votes', 'location',\n",
       "       'rest_type', 'dish_liked', 'cuisines', 'cost', 'menu_item', 'meal_type',\n",
       "       'reviews_text'],\n",
       "      dtype='object')"
      ]
     },
     "execution_count": 64,
     "metadata": {},
     "output_type": "execute_result"
    },
    {
     "data": {
      "image/png": "[encoded data removed]",
      "text/plain": [
       "<Figure size 1080x576 with 2 Axes>"
      ]
     },
     "metadata": {},
     "output_type": "display_data"
    }
   ],
   "source": [
    "#Get Correlation between different variables, for all columns\n",
    "corr = zomato_en.corr(method='kendall')\n",
    "plt.figure(figsize=(15,8))\n",
    "sns.heatmap(corr, annot=True)\n",
    "zomato_en.columns"
   ]
  }
 ],
 "metadata": {
  "kernelspec": {
   "display_name": "Python 3",
   "language": "python",
   "name": "python3"
  },
  "language_info": {
   "codemirror_mode": {
    "name": "ipython",
    "version": 3
   },
   "file_extension": ".py",
   "mimetype": "text/x-python",
   "name": "python",
   "nbconvert_exporter": "python",
   "pygments_lexer": "ipython3",
   "version": "3.7.6"
  },
  "papermill": {
   "duration": 115.993434,
   "end_time": "2020-11-19T18:55:13.805771",
   "environment_variables": {},
   "exception": null,
   "input_path": "__notebook__.ipynb",
   "output_path": "__notebook__.ipynb",
   "parameters": {},
   "start_time": "2020-11-19T18:53:17.812337",
   "version": "2.1.0"
  }
 },
 "nbformat": 4,
 "nbformat_minor": 4
}
